{
  "nbformat": 4,
  "nbformat_minor": 0,
  "metadata": {
    "colab": {
      "name": "02-T1-IF2220-13519081.ipynb",
      "provenance": [],
      "collapsed_sections": [],
      "toc_visible": true
    },
    "kernelspec": {
      "display_name": "Python 3",
      "name": "python3"
    }
  },
  "cells": [
    {
      "cell_type": "markdown",
      "metadata": {
        "id": "jyZtfQb1ofBQ"
      },
      "source": [
        "**Tugas Besar IF2220 Probabilitas dan Statistika** \n",
        "**Penarikan Kesimpulan dan Pengujian Hipotesis**\n"
      ]
    },
    {
      "cell_type": "code",
      "metadata": {
        "id": "i0QFIHrru8M3"
      },
      "source": [
        "#setup\n",
        "import pandas as pd\n",
        "import matplotlib.pyplot as plt\n",
        "import scipy.stats as s\n",
        "import seaborn as sns\n",
        "import math\n",
        "\n",
        "def zscore(x, mean, std, n):\n",
        "  return (x-mean)*math.sqrt(n)/std\n",
        "def ptoz(p):\n",
        "  return s.norm.ppf(p)\n",
        "def ztop(z):\n",
        "  return s.norm.cdf(z)\n",
        "def ztwotestmean(d0, x1, x2, var1, var2, n1, n2):\n",
        "  return((x1 - x2) - d0)/math.sqrt((var1/n1) + (var2/n2))\n",
        "\n",
        "alpha = 0.05 #nilai alpha\n",
        "colnames = ['id', 'daerah', 'sumbu utama', 'sumbu kecil', 'keunikan', 'area bulatan', 'diameter', 'kadar air', 'keliling', 'bulatan', 'ransum', 'kelas']\n",
        "url = 'https://drive.google.com/file/d/1z0EyNb2c5PD-ECNgsS_6f7KV6bm2ya10/view?usp=sharing' # copy of original dataset, in personal drive\n",
        "path = 'https://drive.google.com/uc?export=download&id='+url.split('/')[-2]\n",
        "g = pd.read_csv(path, header=None)\n",
        "g.columns = colnames\n",
        "gandum = g[g.columns[1:11]] #dataset selain kolom id dan kelas"
      ],
      "execution_count": 523,
      "outputs": []
    },
    {
      "cell_type": "markdown",
      "metadata": {
        "id": "qQyQiZ0u6WUd"
      },
      "source": [
        "# **Descriptive Statistics**"
      ]
    },
    {
      "cell_type": "markdown",
      "metadata": {
        "id": "TTX5OjMu6cfS"
      },
      "source": [
        "## Mean\n",
        "\n",
        "---\n",
        "\n"
      ]
    },
    {
      "cell_type": "code",
      "metadata": {
        "colab": {
          "base_uri": "https://localhost:8080/"
        },
        "id": "tkfqvuNmzhPc",
        "outputId": "2507b98b-ab22-4499-d035-bf5b7ac81105"
      },
      "source": [
        "gandum.mean() #mean untuk kolom daerah-ransum"
      ],
      "execution_count": 524,
      "outputs": [
        {
          "output_type": "execute_result",
          "data": {
            "text/plain": [
              "daerah          4801.246000\n",
              "sumbu utama      116.045171\n",
              "sumbu kecil       53.715246\n",
              "keunikan           0.878764\n",
              "area bulatan    4937.048000\n",
              "diameter          77.771158\n",
              "kadar air          0.648372\n",
              "keliling         281.479722\n",
              "bulatan            0.761737\n",
              "ransum             2.150915\n",
              "dtype: float64"
            ]
          },
          "metadata": {
            "tags": []
          },
          "execution_count": 524
        }
      ]
    },
    {
      "cell_type": "markdown",
      "metadata": {
        "id": "HSGXElLM6fsl"
      },
      "source": [
        "## Median\n",
        "\n",
        "---\n",
        "\n"
      ]
    },
    {
      "cell_type": "code",
      "metadata": {
        "colab": {
          "base_uri": "https://localhost:8080/"
        },
        "id": "3XsNxteVuAUT",
        "outputId": "0fa5710f-8255-4cae-e4cf-ac7e444801d4"
      },
      "source": [
        "gandum.median() #median untuk kolom daerah-ransum"
      ],
      "execution_count": 525,
      "outputs": [
        {
          "output_type": "execute_result",
          "data": {
            "text/plain": [
              "daerah          4735.000000\n",
              "sumbu utama      115.405140\n",
              "sumbu kecil       53.731199\n",
              "keunikan           0.890045\n",
              "area bulatan    4857.000000\n",
              "diameter          77.645277\n",
              "kadar air          0.626117\n",
              "keliling         280.045500\n",
              "bulatan            0.761288\n",
              "ransum             2.193599\n",
              "dtype: float64"
            ]
          },
          "metadata": {
            "tags": []
          },
          "execution_count": 525
        }
      ]
    },
    {
      "cell_type": "markdown",
      "metadata": {
        "id": "lHJJE1yF6hce"
      },
      "source": [
        "## Modus\n",
        "\n",
        "---\n",
        "\n"
      ]
    },
    {
      "cell_type": "code",
      "metadata": {
        "colab": {
          "base_uri": "https://localhost:8080/"
        },
        "id": "gHEsQCssGDnw",
        "outputId": "1be786b1-20fe-4fbe-9a28-ddd0c6b72666"
      },
      "source": [
        "for i in gandum.columns:\n",
        "  mod = gandum[i].mode()\n",
        "  print(\"Modus \" + i + \": \", end=\"\")\n",
        "  if(len(mod) != 500): #jika tidak semua modus\n",
        "    for j in range(len(mod)):\n",
        "      if j != len(mod) -1:\n",
        "        print(mod[j], end= \", \")\n",
        "      else:\n",
        "        print(mod[j])\n",
        "  else:\n",
        "    print(\"Semua data muncul sekali\") #semua data unik, semua modus\n",
        "  print()"
      ],
      "execution_count": 526,
      "outputs": [
        {
          "output_type": "stream",
          "text": [
            "Modus daerah: 3992, 4881, 5642, 6083\n",
            "\n",
            "Modus sumbu utama: Semua data muncul sekali\n",
            "\n",
            "Modus sumbu kecil: Semua data muncul sekali\n",
            "\n",
            "Modus keunikan: Semua data muncul sekali\n",
            "\n",
            "Modus area bulatan: 3802, 4913\n",
            "\n",
            "Modus diameter: 71.29356396, 78.83325579, 84.75622403, 88.00634154\n",
            "\n",
            "Modus kadar air: 0.735849057, 0.824404762\n",
            "\n",
            "Modus keliling: Semua data muncul sekali\n",
            "\n",
            "Modus bulatan: Semua data muncul sekali\n",
            "\n",
            "Modus ransum: Semua data muncul sekali\n",
            "\n"
          ],
          "name": "stdout"
        }
      ]
    },
    {
      "cell_type": "markdown",
      "metadata": {
        "id": "KY8GI4aK62l5"
      },
      "source": [
        "## Standar Deviasi\n",
        "\n",
        "---\n",
        "\n"
      ]
    },
    {
      "cell_type": "code",
      "metadata": {
        "colab": {
          "base_uri": "https://localhost:8080/"
        },
        "id": "cUv2dwg2z8VE",
        "outputId": "74540018-d0bd-4cfc-f7e1-bdb686640a28"
      },
      "source": [
        "gandum.std() #standar deviasi untuk kolom daerah-ransum"
      ],
      "execution_count": 527,
      "outputs": [
        {
          "output_type": "execute_result",
          "data": {
            "text/plain": [
              "daerah           986.395491\n",
              "sumbu utama       18.282626\n",
              "sumbu kecil        4.071075\n",
              "keunikan           0.036586\n",
              "area bulatan    1011.696255\n",
              "diameter           8.056867\n",
              "kadar air          0.094367\n",
              "keliling          37.335402\n",
              "bulatan            0.061702\n",
              "ransum             0.249767\n",
              "dtype: float64"
            ]
          },
          "metadata": {
            "tags": []
          },
          "execution_count": 527
        }
      ]
    },
    {
      "cell_type": "markdown",
      "metadata": {
        "id": "srM3kZlI64z6"
      },
      "source": [
        "## Variansi\n",
        "\n",
        "---\n",
        "\n"
      ]
    },
    {
      "cell_type": "code",
      "metadata": {
        "colab": {
          "base_uri": "https://localhost:8080/"
        },
        "id": "Dxgg6934uNTh",
        "outputId": "9055edc3-809e-47e2-b721-12aa0f526202"
      },
      "source": [
        "gandum.var() # variansi untuk kolom daerah-ransum"
      ],
      "execution_count": 528,
      "outputs": [
        {
          "output_type": "execute_result",
          "data": {
            "text/plain": [
              "daerah          9.729761e+05\n",
              "sumbu utama     3.342544e+02\n",
              "sumbu kecil     1.657365e+01\n",
              "keunikan        1.338528e-03\n",
              "area bulatan    1.023529e+06\n",
              "diameter        6.491311e+01\n",
              "kadar air       8.905149e-03\n",
              "keliling        1.393932e+03\n",
              "bulatan         3.807194e-03\n",
              "ransum          6.238350e-02\n",
              "dtype: float64"
            ]
          },
          "metadata": {
            "tags": []
          },
          "execution_count": 528
        }
      ]
    },
    {
      "cell_type": "markdown",
      "metadata": {
        "id": "OziV9v8r66bP"
      },
      "source": [
        "## Range\n",
        "\n",
        "---\n",
        "\n"
      ]
    },
    {
      "cell_type": "code",
      "metadata": {
        "colab": {
          "base_uri": "https://localhost:8080/"
        },
        "id": "bmuEzKS1sv4h",
        "outputId": "efe5f1f5-a0cc-472b-b7cb-565e8eeb1e51"
      },
      "source": [
        "gandum.max() - gandum.min() #range untuk kolom daerah-ransum"
      ],
      "execution_count": 529,
      "outputs": [
        {
          "output_type": "execute_result",
          "data": {
            "text/plain": [
              "daerah          4931.000000\n",
              "sumbu utama      153.795469\n",
              "sumbu kecil       29.071182\n",
              "keunikan           0.194085\n",
              "area bulatan    5141.000000\n",
              "diameter          40.747172\n",
              "kadar air          0.468972\n",
              "keliling         291.822000\n",
              "bulatan            0.730158\n",
              "ransum             1.024013\n",
              "dtype: float64"
            ]
          },
          "metadata": {
            "tags": []
          },
          "execution_count": 529
        }
      ]
    },
    {
      "cell_type": "markdown",
      "metadata": {
        "id": "STbszKen68Ec"
      },
      "source": [
        "## Min\n",
        "\n",
        "---\n",
        "\n"
      ]
    },
    {
      "cell_type": "code",
      "metadata": {
        "colab": {
          "base_uri": "https://localhost:8080/"
        },
        "id": "tp6VTOBM0B20",
        "outputId": "b99c5030-1a89-4082-897f-1439a33ba96b"
      },
      "source": [
        "gandum.min() #nilai mininum untuk kolom daerah-ransum"
      ],
      "execution_count": 530,
      "outputs": [
        {
          "output_type": "execute_result",
          "data": {
            "text/plain": [
              "daerah          2522.000000\n",
              "sumbu utama       74.133114\n",
              "sumbu kecil       39.906517\n",
              "keunikan           0.719916\n",
              "area bulatan    2579.000000\n",
              "diameter          56.666658\n",
              "kadar air          0.409927\n",
              "keliling         197.015000\n",
              "bulatan            0.174590\n",
              "ransum             1.440796\n",
              "dtype: float64"
            ]
          },
          "metadata": {
            "tags": []
          },
          "execution_count": 530
        }
      ]
    },
    {
      "cell_type": "markdown",
      "metadata": {
        "id": "m5mAY6Bk7ExS"
      },
      "source": [
        "## Max\n",
        "\n",
        "---\n",
        "\n"
      ]
    },
    {
      "cell_type": "code",
      "metadata": {
        "colab": {
          "base_uri": "https://localhost:8080/"
        },
        "id": "JJzxF1g80Dx1",
        "outputId": "6667d558-a852-431f-af89-b37b1a9366bb"
      },
      "source": [
        "gandum.max() #nilai maksimum untuk kolom daerah-ransum"
      ],
      "execution_count": 531,
      "outputs": [
        {
          "output_type": "execute_result",
          "data": {
            "text/plain": [
              "daerah          7453.000000\n",
              "sumbu utama      227.928583\n",
              "sumbu kecil       68.977700\n",
              "keunikan           0.914001\n",
              "area bulatan    7720.000000\n",
              "diameter          97.413830\n",
              "kadar air          0.878899\n",
              "keliling         488.837000\n",
              "bulatan            0.904748\n",
              "ransum             2.464809\n",
              "dtype: float64"
            ]
          },
          "metadata": {
            "tags": []
          },
          "execution_count": 531
        }
      ]
    },
    {
      "cell_type": "markdown",
      "metadata": {
        "id": "_sxfSDxSI594"
      },
      "source": [
        "## Kuartil\n",
        "\n",
        "---\n",
        "\n"
      ]
    },
    {
      "cell_type": "code",
      "metadata": {
        "colab": {
          "base_uri": "https://localhost:8080/",
          "height": 142
        },
        "id": "rRFRjHlW-Lqx",
        "outputId": "4e3fa2a1-b9a3-4827-a2ab-2e8e39a2b131"
      },
      "source": [
        "gandum.quantile([0.25,0.5,0.75]) #kuartil (quantil 0.25, 0.5, 0.75) untuk kolom daerah-ransum"
      ],
      "execution_count": 532,
      "outputs": [
        {
          "output_type": "execute_result",
          "data": {
            "text/html": [
              "<div>\n",
              "<style scoped>\n",
              "    .dataframe tbody tr th:only-of-type {\n",
              "        vertical-align: middle;\n",
              "    }\n",
              "\n",
              "    .dataframe tbody tr th {\n",
              "        vertical-align: top;\n",
              "    }\n",
              "\n",
              "    .dataframe thead th {\n",
              "        text-align: right;\n",
              "    }\n",
              "</style>\n",
              "<table border=\"1\" class=\"dataframe\">\n",
              "  <thead>\n",
              "    <tr style=\"text-align: right;\">\n",
              "      <th></th>\n",
              "      <th>daerah</th>\n",
              "      <th>sumbu utama</th>\n",
              "      <th>sumbu kecil</th>\n",
              "      <th>keunikan</th>\n",
              "      <th>area bulatan</th>\n",
              "      <th>diameter</th>\n",
              "      <th>kadar air</th>\n",
              "      <th>keliling</th>\n",
              "      <th>bulatan</th>\n",
              "      <th>ransum</th>\n",
              "    </tr>\n",
              "  </thead>\n",
              "  <tbody>\n",
              "    <tr>\n",
              "      <th>0.25</th>\n",
              "      <td>4042.75</td>\n",
              "      <td>104.116098</td>\n",
              "      <td>51.193576</td>\n",
              "      <td>0.863676</td>\n",
              "      <td>4170.25</td>\n",
              "      <td>71.745308</td>\n",
              "      <td>0.572632</td>\n",
              "      <td>255.8830</td>\n",
              "      <td>0.731991</td>\n",
              "      <td>1.983939</td>\n",
              "    </tr>\n",
              "    <tr>\n",
              "      <th>0.50</th>\n",
              "      <td>4735.00</td>\n",
              "      <td>115.405140</td>\n",
              "      <td>53.731199</td>\n",
              "      <td>0.890045</td>\n",
              "      <td>4857.00</td>\n",
              "      <td>77.645277</td>\n",
              "      <td>0.626117</td>\n",
              "      <td>280.0455</td>\n",
              "      <td>0.761288</td>\n",
              "      <td>2.193599</td>\n",
              "    </tr>\n",
              "    <tr>\n",
              "      <th>0.75</th>\n",
              "      <td>5495.50</td>\n",
              "      <td>129.046792</td>\n",
              "      <td>56.325158</td>\n",
              "      <td>0.907578</td>\n",
              "      <td>5654.25</td>\n",
              "      <td>83.648598</td>\n",
              "      <td>0.726633</td>\n",
              "      <td>306.0625</td>\n",
              "      <td>0.796361</td>\n",
              "      <td>2.381612</td>\n",
              "    </tr>\n",
              "  </tbody>\n",
              "</table>\n",
              "</div>"
            ],
            "text/plain": [
              "       daerah  sumbu utama  sumbu kecil  ...  keliling   bulatan    ransum\n",
              "0.25  4042.75   104.116098    51.193576  ...  255.8830  0.731991  1.983939\n",
              "0.50  4735.00   115.405140    53.731199  ...  280.0455  0.761288  2.193599\n",
              "0.75  5495.50   129.046792    56.325158  ...  306.0625  0.796361  2.381612\n",
              "\n",
              "[3 rows x 10 columns]"
            ]
          },
          "metadata": {
            "tags": []
          },
          "execution_count": 532
        }
      ]
    },
    {
      "cell_type": "markdown",
      "metadata": {
        "id": "RpgsBqmuI9TD"
      },
      "source": [
        "## IQR\n",
        "\n",
        "---\n",
        "\n"
      ]
    },
    {
      "cell_type": "code",
      "metadata": {
        "colab": {
          "base_uri": "https://localhost:8080/"
        },
        "id": "LWQuY7lz-ulO",
        "outputId": "59d283c4-fed8-4979-d202-b4b4aa639769"
      },
      "source": [
        "gandum.quantile(0.75) - gandum.quantile(0.25) #IQR untuk kolom daerah-ransum"
      ],
      "execution_count": 533,
      "outputs": [
        {
          "output_type": "execute_result",
          "data": {
            "text/plain": [
              "daerah          1452.750000\n",
              "sumbu utama       24.930694\n",
              "sumbu kecil        5.131582\n",
              "keunikan           0.043902\n",
              "area bulatan    1484.000000\n",
              "diameter          11.903290\n",
              "kadar air          0.154001\n",
              "keliling          50.179500\n",
              "bulatan            0.064370\n",
              "ransum             0.397673\n",
              "dtype: float64"
            ]
          },
          "metadata": {
            "tags": []
          },
          "execution_count": 533
        }
      ]
    },
    {
      "cell_type": "markdown",
      "metadata": {
        "id": "HX8bG4iH7MQr"
      },
      "source": [
        "## Skewness\n",
        "\n",
        "---\n",
        "\n"
      ]
    },
    {
      "cell_type": "code",
      "metadata": {
        "colab": {
          "base_uri": "https://localhost:8080/"
        },
        "id": "bTvkvCcN4kJp",
        "outputId": "2f95db25-3840-4717-b5c0-c05dc7c44752"
      },
      "source": [
        "gandum.skew() #Skew untuk kolom daerah-ransum"
      ],
      "execution_count": 534,
      "outputs": [
        {
          "output_type": "execute_result",
          "data": {
            "text/plain": [
              "daerah          0.238144\n",
              "sumbu utama     0.761529\n",
              "sumbu kecil    -0.010828\n",
              "keunikan       -1.623472\n",
              "area bulatan    0.257560\n",
              "diameter        0.002725\n",
              "kadar air       0.493661\n",
              "keliling        0.733627\n",
              "bulatan        -3.599237\n",
              "ransum         -0.658188\n",
              "dtype: float64"
            ]
          },
          "metadata": {
            "tags": []
          },
          "execution_count": 534
        }
      ]
    },
    {
      "cell_type": "markdown",
      "metadata": {
        "id": "gSH5SQuw7Pj8"
      },
      "source": [
        "## Kurtosis\n",
        "\n",
        "---\n",
        "\n"
      ]
    },
    {
      "cell_type": "code",
      "metadata": {
        "colab": {
          "base_uri": "https://localhost:8080/"
        },
        "id": "Cd-PPcXh5AtX",
        "outputId": "6230590e-ad93-4352-ab0c-4496c2034952"
      },
      "source": [
        "gandum.kurtosis() # Kurtosis untuk kolom daerah-ransum"
      ],
      "execution_count": 535,
      "outputs": [
        {
          "output_type": "execute_result",
          "data": {
            "text/plain": [
              "daerah          -0.434631\n",
              "sumbu utama      4.330534\n",
              "sumbu kecil      0.475568\n",
              "keunikan         2.917256\n",
              "area bulatan    -0.409685\n",
              "diameter        -0.466455\n",
              "kadar air       -0.740326\n",
              "keliling         2.272685\n",
              "bulatan         29.975096\n",
              "ransum          -0.428656\n",
              "dtype: float64"
            ]
          },
          "metadata": {
            "tags": []
          },
          "execution_count": 535
        }
      ]
    },
    {
      "cell_type": "markdown",
      "metadata": {
        "id": "wfK82ncIARiG"
      },
      "source": [
        "# **Visualisasi**"
      ]
    },
    {
      "cell_type": "code",
      "metadata": {
        "id": "ShHa5o8QIBk7",
        "colab": {
          "base_uri": "https://localhost:8080/",
          "height": 1000
        },
        "outputId": "ec6466c2-b50a-4432-d648-6cf1bc189279"
      },
      "source": [
        "fig, axes = plt.subplots(nrows = 5, ncols=2, figsize=(14,20))\n",
        "row = 0\n",
        "for i, col in enumerate(gandum.columns):\n",
        "  gandum.boxplot(column=col, ax=axes[row, i%2])\n",
        "  if i % 2 == 1:\n",
        "    row += 1\n",
        "plt.show()\n",
        "#Menunjukkan boxplot untuk kolom daerah - ransum"
      ],
      "execution_count": 536,
      "outputs": [
        {
          "output_type": "display_data",
          "data": {
            "image/png": "[encoded data removed]",
            "text/plain": [
              "<Figure size 1008x1440 with 10 Axes>"
            ]
          },
          "metadata": {
            "tags": [],
            "needs_background": "light"
          }
        }
      ]
    },
    {
      "cell_type": "code",
      "metadata": {
        "id": "doqzKiz_H7lx",
        "colab": {
          "base_uri": "https://localhost:8080/",
          "height": 1000
        },
        "outputId": "73fc75d7-43a9-4c6c-8835-dc87cdd6a5f5"
      },
      "source": [
        "gandum.hist(figsize=(20, 20), edgecolor='black')\n",
        "#Menunjukkan histogram untuk kolom daerah - ransum"
      ],
      "execution_count": 537,
      "outputs": [
        {
          "output_type": "execute_result",
          "data": {
            "text/plain": [
              "array([[<matplotlib.axes._subplots.AxesSubplot object at 0x7f5570137f10>,\n",
              "        <matplotlib.axes._subplots.AxesSubplot object at 0x7f557021d750>,\n",
              "        <matplotlib.axes._subplots.AxesSubplot object at 0x7f55702aadd0>],\n",
              "       [<matplotlib.axes._subplots.AxesSubplot object at 0x7f5570317e50>,\n",
              "        <matplotlib.axes._subplots.AxesSubplot object at 0x7f557035fd50>,\n",
              "        <matplotlib.axes._subplots.AxesSubplot object at 0x7f55703ed650>],\n",
              "       [<matplotlib.axes._subplots.AxesSubplot object at 0x7f5571667b90>,\n",
              "        <matplotlib.axes._subplots.AxesSubplot object at 0x7f55714fb9d0>,\n",
              "        <matplotlib.axes._subplots.AxesSubplot object at 0x7f5571607ed0>],\n",
              "       [<matplotlib.axes._subplots.AxesSubplot object at 0x7f5571552c10>,\n",
              "        <matplotlib.axes._subplots.AxesSubplot object at 0x7f5570650750>,\n",
              "        <matplotlib.axes._subplots.AxesSubplot object at 0x7f5570d145d0>]],\n",
              "      dtype=object)"
            ]
          },
          "metadata": {
            "tags": []
          },
          "execution_count": 537
        },
        {
          "output_type": "display_data",
          "data": {
            "image/png": "[encoded data removed]",
            "text/plain": [
              "<Figure size 1440x1440 with 12 Axes>"
            ]
          },
          "metadata": {
            "tags": [],
            "needs_background": "light"
          }
        }
      ]
    },
    {
      "cell_type": "markdown",
      "metadata": {
        "id": "CjmK9b-lpAda"
      },
      "source": [
        "## Daerah\n",
        "\n",
        "---\n",
        "\n"
      ]
    },
    {
      "cell_type": "code",
      "metadata": {
        "id": "byEhFKUM7sHM",
        "colab": {
          "base_uri": "https://localhost:8080/",
          "height": 265
        },
        "outputId": "68555c16-ee93-434d-bbf3-69c6599666be"
      },
      "source": [
        "df = pd.DataFrame(data = gandum, columns = ['daerah'])\n",
        "boxplot = df.boxplot(column = ['daerah'])"
      ],
      "execution_count": 538,
      "outputs": [
        {
          "output_type": "display_data",
          "data": {
            "image/png": "[encoded data removed]",
            "text/plain": [
              "<Figure size 432x288 with 1 Axes>"
            ]
          },
          "metadata": {
            "tags": [],
            "needs_background": "light"
          }
        }
      ]
    },
    {
      "cell_type": "code",
      "metadata": {
        "id": "SavHTko1C0of",
        "colab": {
          "base_uri": "https://localhost:8080/",
          "height": 265
        },
        "outputId": "551e1c43-447c-4623-c9e5-7b6feffd3a44"
      },
      "source": [
        "df = pd.DataFrame(data = gandum, columns = ['daerah'])\n",
        "hist = df.plot.hist(bins = 10, color = '#FF8700', edgecolor='black')"
      ],
      "execution_count": 539,
      "outputs": [
        {
          "output_type": "display_data",
          "data": {
            "image/png": "[encoded data removed]",
            "text/plain": [
              "<Figure size 432x288 with 1 Axes>"
            ]
          },
          "metadata": {
            "tags": [],
            "needs_background": "light"
          }
        }
      ]
    },
    {
      "cell_type": "markdown",
      "metadata": {
        "id": "kfX-E-IXqyqP"
      },
      "source": [
        "Uraian:\n",
        "\n",
        "Tidak terdapat outlier pada boxplot karena tidak ada nilai yang kurang dari Q1 - 1.5*IQR dan lebih dari Q3 + 1.5 * 1452.75\n",
        "\n",
        "Lower tail menandakan nilai Q1 - 1.5*IQR dan Upper tail menandakan nilai Q3 + 1.5*IQR. Posisi kedua tail sesuai karena berdasarkan perhitungan lower tail : 2179.125 dan upper tail 7674.625\n",
        "\n",
        "Pada box ditunjukkan Q1, Q2, Q3. Q1 adalah bagian bawah dari box, Q2 adalah bagian tengah dan juga median, Q3 adalah bagian atas dari box. Posisi ketiga kuartil sesuai karena Q1: 4042.75, Q2: 4735, Q3: 5495.50. Jarak antara Bagian atas dan bagian bawah adalah nilai IQR. \n",
        "\n",
        "\n",
        "Histogram memiliki positive skew karena memiliki kecendrungan ke kiri. memiliki tipe kurtosis platykurtic karena bentuknya lebih lebar dari histogram yang berdistribusi normal.\n",
        "\n"
      ]
    },
    {
      "cell_type": "markdown",
      "metadata": {
        "id": "LJtlCC-JpZKh"
      },
      "source": [
        "## Sumbu Utama\n",
        "\n",
        "---\n",
        "\n"
      ]
    },
    {
      "cell_type": "code",
      "metadata": {
        "id": "1GkUoMQVA0Um",
        "colab": {
          "base_uri": "https://localhost:8080/",
          "height": 265
        },
        "outputId": "18e4532e-ae44-4798-9b63-959f36dbae81"
      },
      "source": [
        "df = pd.DataFrame(data = gandum, columns = ['sumbu utama'])\n",
        "boxplot = df.boxplot(column = ['sumbu utama'])"
      ],
      "execution_count": 540,
      "outputs": [
        {
          "output_type": "display_data",
          "data": {
            "image/png": "[encoded data removed]",
            "text/plain": [
              "<Figure size 432x288 with 1 Axes>"
            ]
          },
          "metadata": {
            "tags": [],
            "needs_background": "light"
          }
        }
      ]
    },
    {
      "cell_type": "code",
      "metadata": {
        "id": "zhMvTYY2E4jf",
        "colab": {
          "base_uri": "https://localhost:8080/",
          "height": 266
        },
        "outputId": "696b5b8a-39ed-4433-e57e-7c441d7ddf73"
      },
      "source": [
        "df = pd.DataFrame(data = gandum, columns = ['sumbu utama'])\n",
        "hist = df.plot.hist(bins = 10, color = '#843795', edgecolor='black')"
      ],
      "execution_count": 541,
      "outputs": [
        {
          "output_type": "display_data",
          "data": {
            "image/png": "[encoded data removed]",
            "text/plain": [
              "<Figure size 432x288 with 1 Axes>"
            ]
          },
          "metadata": {
            "tags": [],
            "needs_background": "light"
          }
        }
      ]
    },
    {
      "cell_type": "markdown",
      "metadata": {
        "id": "gROXzVEMq7Xo"
      },
      "source": [
        "Uraian:\n",
        "\n",
        "Terdapat outlier pada boxplot hal ini dapat dibuktikan dengan adanya nilai max 227.928583 yang melebihi Upper tail : Q3 + 1.5*IQR = 166.442833\n",
        "\n",
        "Lower tail menandakan nilai Q1 - 1.5*IQR dan Upper tail menandakan nilai Q3 + 1.5*IQR. Posisi kedua tail sesuai karena berdasarkan perhitungan lower tail :  66.720058 dan upper tail 166.442833\n",
        "\n",
        "Pada box ditunjukkan Q1, Q2, Q3. Q1 adalah bagian bawah dari box, Q2 adalah bagian tengah dan juga median, Q3 adalah bagian atas dari box. Posisi ketiga kuartil sesuai karena Q1: 104.116098, Q2: 115.405140, Q3: 129.046792. Jarak antara Bagian atas dan bagian bawah adalah nilai IQR. \n",
        "\n",
        "Histogram memiliki positive skew karena memiliki kecendrungan ke kiri. Memiliki tipe kurtosis leptokurtic karena bentuknya lebih ramping dari histogram yang berdistribusi normal. Terdapat outlier di ujung kanan"
      ]
    },
    {
      "cell_type": "markdown",
      "metadata": {
        "id": "93kttEx0phzc"
      },
      "source": [
        "## Sumbu Kecil\n",
        "\n",
        "\n",
        "---\n",
        "\n"
      ]
    },
    {
      "cell_type": "code",
      "metadata": {
        "id": "38CzkBPSBAV1",
        "colab": {
          "base_uri": "https://localhost:8080/",
          "height": 266
        },
        "outputId": "dd304892-aa82-4773-a8b6-46a29912db3a"
      },
      "source": [
        "df = pd.DataFrame(data = gandum, columns = ['sumbu kecil'])\n",
        "boxplot = df.boxplot(column = ['sumbu kecil'])"
      ],
      "execution_count": 542,
      "outputs": [
        {
          "output_type": "display_data",
          "data": {
            "image/png": "[encoded data removed]",
            "text/plain": [
              "<Figure size 432x288 with 1 Axes>"
            ]
          },
          "metadata": {
            "tags": [],
            "needs_background": "light"
          }
        }
      ]
    },
    {
      "cell_type": "code",
      "metadata": {
        "id": "Fyqf9pHoE_zL",
        "colab": {
          "base_uri": "https://localhost:8080/",
          "height": 265
        },
        "outputId": "b6ef145f-f2b1-41ea-8a14-2ddaee4e9037"
      },
      "source": [
        "df = pd.DataFrame(data = gandum, columns = ['sumbu kecil'])\n",
        "hist = df.plot.hist(bins = 10, color = '#ffe08d', edgecolor='black')"
      ],
      "execution_count": 543,
      "outputs": [
        {
          "output_type": "display_data",
          "data": {
            "image/png": "[encoded data removed]",
            "text/plain": [
              "<Figure size 432x288 with 1 Axes>"
            ]
          },
          "metadata": {
            "tags": [],
            "needs_background": "light"
          }
        }
      ]
    },
    {
      "cell_type": "markdown",
      "metadata": {
        "id": "m3VXWITAq8bS"
      },
      "source": [
        "Uraian:\n",
        "Terdapat outlier pada boxplot hal ini dapat dibuktikan dengan adanya nilai max dan min yang lebih dari upper dan kurang dari lower tail.\n",
        "\n",
        "\n",
        "Lower tail menandakan nilai Q1 - 1.5*IQR dan Upper tail menandakan nilai Q3 + 1.5*IQR. Posisi kedua tail sesuai karena berdasarkan perhitungan lower tail : 43.496203 dan upper tail : 64.022531\n",
        "\n",
        "Pada box ditunjukkan Q1, Q2, Q3. Q1 adalah bagian bawah dari box, Q2 adalah bagian tengah dan juga median, Q3 adalah bagian atas dari box. Posisi ketiga kuartil sesuai karena Q1: 51.193576, Q2: 53.731199, Q3: 56.325158 . Jarak antara Bagian atas dan bagian bawah adalah nilai IQR. \n",
        "\n",
        "Histogram memiliki skew mendekati 0. Memiliki kurtosis mesokurtic karena nilai kurtosis mendekati 0. Histogram menyerupai bell curve dan kolom sumbu kecil dapat dianggap berdistribusi normal karena memiliki nilai skew dan kurtosis yang mendekati 0 (di pandas, kurtosis normal bernilai 0).\n"
      ]
    },
    {
      "cell_type": "markdown",
      "metadata": {
        "id": "I8L4TtSipyz-"
      },
      "source": [
        "## Keunikan\n",
        "\n",
        "\n",
        "---\n",
        "\n"
      ]
    },
    {
      "cell_type": "code",
      "metadata": {
        "id": "9wP3Dps5BL6h",
        "colab": {
          "base_uri": "https://localhost:8080/",
          "height": 265
        },
        "outputId": "2737b358-daac-4fb4-b0d9-7340e3f1542d"
      },
      "source": [
        "df = pd.DataFrame(data = gandum, columns = ['keunikan'])\n",
        "boxplot = df.boxplot(column = ['keunikan'])"
      ],
      "execution_count": 544,
      "outputs": [
        {
          "output_type": "display_data",
          "data": {
            "image/png": "[encoded data removed]",
            "text/plain": [
              "<Figure size 432x288 with 1 Axes>"
            ]
          },
          "metadata": {
            "tags": [],
            "needs_background": "light"
          }
        }
      ]
    },
    {
      "cell_type": "code",
      "metadata": {
        "id": "L8Uk1Se3Eyea",
        "colab": {
          "base_uri": "https://localhost:8080/",
          "height": 265
        },
        "outputId": "4d593cb5-00a2-473b-bd99-39a6d9493aaf"
      },
      "source": [
        "df = pd.DataFrame(data = gandum, columns = ['keunikan'])\n",
        "hist = df.plot.hist(bins = 10, color = '#96ceb4', edgecolor='black')"
      ],
      "execution_count": 545,
      "outputs": [
        {
          "output_type": "display_data",
          "data": {
            "image/png": "[encoded data removed]",
            "text/plain": [
              "<Figure size 432x288 with 1 Axes>"
            ]
          },
          "metadata": {
            "tags": [],
            "needs_background": "light"
          }
        }
      ]
    },
    {
      "cell_type": "markdown",
      "metadata": {
        "id": "eCvprU-iq9hf"
      },
      "source": [
        "Uraian:"
      ]
    },
    {
      "cell_type": "markdown",
      "metadata": {
        "id": "qQJuUjkw3xyF"
      },
      "source": [
        "Terdapat outlier pada boxplot hal ini dapat dibuktikan dengan adanya nilai min yang kurang dari lower tail\n",
        "\n",
        "Lower tail menandakan nilai Q1 - 1.5*IQR dan Upper tail menandakan nilai Q3 + 1.5*IQR. Posisi kedua tail sesuai karena berdasarkan perhitungan lower tail : 0.797823 dan upper tail : 0.973431\n",
        "\n",
        "Pada box ditunjukkan Q1, Q2, Q3. Q1 adalah bagian bawah dari box, Q2 adalah bagian tengah dan juga median, Q3 adalah bagian atas dari box. Posisi ketiga kuartil sesuai karena Q1: 0.863676, Q2: 0.890045, Q3:  0.907578. Jarak antara Bagian atas dan bagian bawah adalah nilai IQR.\n",
        "\n",
        "Histogram memiliki negative skew. Memiliki kurtosis leptokurtic karena bentuknya lebih ramping dari histogram yang berdistribusi normal."
      ]
    },
    {
      "cell_type": "markdown",
      "metadata": {
        "id": "1g6RakvEp6Zr"
      },
      "source": [
        "## Area Bulatan\n",
        "\n",
        "---\n",
        "\n"
      ]
    },
    {
      "cell_type": "code",
      "metadata": {
        "id": "DuWDTupLBVl5",
        "colab": {
          "base_uri": "https://localhost:8080/",
          "height": 265
        },
        "outputId": "25431891-293d-401e-cb1d-4ec6ecb9fd24"
      },
      "source": [
        "df = pd.DataFrame(data = gandum, columns = ['area bulatan'])\n",
        "boxplot = df.boxplot(column = ['area bulatan'])"
      ],
      "execution_count": 546,
      "outputs": [
        {
          "output_type": "display_data",
          "data": {
            "image/png": "[encoded data removed]",
            "text/plain": [
              "<Figure size 432x288 with 1 Axes>"
            ]
          },
          "metadata": {
            "tags": [],
            "needs_background": "light"
          }
        }
      ]
    },
    {
      "cell_type": "code",
      "metadata": {
        "id": "5YvEeHAxEzIq",
        "colab": {
          "base_uri": "https://localhost:8080/",
          "height": 265
        },
        "outputId": "1fbc7566-0c44-4275-859a-8fa73b0c6dc7"
      },
      "source": [
        "df = pd.DataFrame(data = gandum, columns = ['area bulatan'])\n",
        "hist = df.plot.hist(bins = 10, color = '#415786', edgecolor='black')"
      ],
      "execution_count": 547,
      "outputs": [
        {
          "output_type": "display_data",
          "data": {
            "image/png": "[encoded data removed]",
            "text/plain": [
              "<Figure size 432x288 with 1 Axes>"
            ]
          },
          "metadata": {
            "tags": [],
            "needs_background": "light"
          }
        }
      ]
    },
    {
      "cell_type": "markdown",
      "metadata": {
        "id": "DFCrN-acq-2-"
      },
      "source": [
        "Uraian:\n",
        "\n",
        "Tidak terdapat outlier pada boxplot\n",
        "\n",
        "Lower tail menandakan nilai Q1 - 1.5*IQR dan Upper tail menandakan nilai Q3 + 1.5*IQR. Posisi kedua tail sesuai karena berdasarkan perhitungan lower tail : \n",
        "2,686.25 dan upper tail : 7,138.25\n",
        "\n",
        "Pada box ditunjukkan Q1, Q2, Q3. Q1 adalah bagian bawah dari box, Q2 adalah bagian tengah dan juga median, Q3 adalah bagian atas dari box. Posisi ketiga kuartil sesuai karena Q1: 4170.25, Q2:  4857.00 , Q3:  5654.25. Jarak antara Bagian atas dan bagian bawah adalah nilai IQR. \n",
        "\n",
        "Histogram memiliki positive skew. Memiliki kurtosis platykurtic karena bentuknya lebih lebar dari histogram yang berdistribusi normal.\n",
        "\n"
      ]
    },
    {
      "cell_type": "markdown",
      "metadata": {
        "id": "iNAPYF_dqBSg"
      },
      "source": [
        "## Diameter\n",
        "\n",
        "\n",
        "---\n",
        "\n"
      ]
    },
    {
      "cell_type": "code",
      "metadata": {
        "id": "cgLQm-TiBbcs",
        "colab": {
          "base_uri": "https://localhost:8080/",
          "height": 265
        },
        "outputId": "ca8e468e-5d57-40cc-fa59-6c5d53bd4794"
      },
      "source": [
        "df = pd.DataFrame(data = gandum, columns = ['diameter'])\n",
        "boxplot = df.boxplot(column = ['diameter'])"
      ],
      "execution_count": 548,
      "outputs": [
        {
          "output_type": "display_data",
          "data": {
            "image/png": "[encoded data removed]",
            "text/plain": [
              "<Figure size 432x288 with 1 Axes>"
            ]
          },
          "metadata": {
            "tags": [],
            "needs_background": "light"
          }
        }
      ]
    },
    {
      "cell_type": "code",
      "metadata": {
        "id": "KYPvprVcEzhR",
        "colab": {
          "base_uri": "https://localhost:8080/",
          "height": 265
        },
        "outputId": "f52e8116-f9a8-4d4c-ba8c-6c8550c52d78"
      },
      "source": [
        "df = pd.DataFrame(data = gandum, columns = ['diameter'])\n",
        "hist = df.plot.hist(bins = 10, color = '#80C6FF', edgecolor='black')"
      ],
      "execution_count": 549,
      "outputs": [
        {
          "output_type": "display_data",
          "data": {
            "image/png": "[encoded data removed]",
            "text/plain": [
              "<Figure size 432x288 with 1 Axes>"
            ]
          },
          "metadata": {
            "tags": [],
            "needs_background": "light"
          }
        }
      ]
    },
    {
      "cell_type": "markdown",
      "metadata": {
        "id": "YyZrxOTXrAQ_"
      },
      "source": [
        "Uraian:\n",
        "\n",
        "Tidak terdapat outlier\n",
        "\n",
        "Lower tail menandakan nilai Q1 - 1.5*IQR dan Upper tail menandakan nilai Q3 + 1.5*IQR. Posisi kedua tail sesuai karena berdasarkan perhitungan lower tail : \n",
        "53.890373 dan upper tail : 101.503533\n",
        "\n",
        "Pada box ditunjukkan Q1, Q2, Q3. Q1 adalah bagian bawah dari box, Q2 adalah bagian tengah dan juga median, Q3 adalah bagian atas dari box. Posisi ketiga kuartil sesuai karena Q1: 71.745308, Q2: 77.645277, Q3:  83.648598. Jarak antara Bagian atas dan bagian bawah adalah nilai IQR. \n",
        "\n",
        "Histogram memiliki skew mendekati 0. Memiliki kurtosis \n",
        "mesokurtic karena nilai kurtosis mendekati 0. Histogram juga menyerupai bell curve. Kolom diameter dapat dianggap berdistribusi normal karena nilai skew dan kurtosis yang mendekati 0 (di pandas, kurtosis normal itu 0).\n"
      ]
    },
    {
      "cell_type": "markdown",
      "metadata": {
        "id": "mKSKPog8qF-9"
      },
      "source": [
        "## Kadar Air"
      ]
    },
    {
      "cell_type": "code",
      "metadata": {
        "id": "2h81UNNcBfJC",
        "colab": {
          "base_uri": "https://localhost:8080/",
          "height": 268
        },
        "outputId": "efec662d-9a2d-4b3c-f147-4166f84e619a"
      },
      "source": [
        "df = pd.DataFrame(data = gandum, columns = ['kadar air'])\n",
        "boxplot = df.boxplot(column = ['kadar air'])"
      ],
      "execution_count": 550,
      "outputs": [
        {
          "output_type": "display_data",
          "data": {
            "image/png": "[encoded data removed]",
            "text/plain": [
              "<Figure size 432x288 with 1 Axes>"
            ]
          },
          "metadata": {
            "tags": [],
            "needs_background": "light"
          }
        }
      ]
    },
    {
      "cell_type": "code",
      "metadata": {
        "id": "rPQ8e4ZdBxjw",
        "colab": {
          "base_uri": "https://localhost:8080/",
          "height": 265
        },
        "outputId": "de06566d-0280-44f5-dacf-fd60eff41374"
      },
      "source": [
        "df = pd.DataFrame(data = gandum, columns = ['kadar air'])\n",
        "hist = df.plot.hist(bins = 10, color = '#071ACD', edgecolor='black')"
      ],
      "execution_count": 551,
      "outputs": [
        {
          "output_type": "display_data",
          "data": {
            "image/png": "[encoded data removed]",
            "text/plain": [
              "<Figure size 432x288 with 1 Axes>"
            ]
          },
          "metadata": {
            "tags": [],
            "needs_background": "light"
          }
        }
      ]
    },
    {
      "cell_type": "markdown",
      "metadata": {
        "id": "aeyEvxeKrBPj"
      },
      "source": [
        "Uraian:\n",
        "\n",
        "Tidak ada outlier \n",
        "\n",
        "Lower tail menandakan nilai Q1 - 1.5*IQR dan Upper tail menandakan nilai Q3 + 1.5*IQR. Posisi kedua tail sesuai karena berdasarkan perhitungan lower tail :0.3416305  dan upper tail : 0.9576345\n",
        "\n",
        "Pada box ditunjukkan Q1, Q2, Q3. Q1 adalah bagian bawah dari box, Q2 adalah bagian tengah dan juga median, Q3 adalah bagian atas dari box. Posisi ketiga kuartil sesuai karena Q1: 0.572632, Q2: 0.626117, Q3: 0.726633. Jarak antara Bagian atas dan bagian bawah adalah nilai IQR. \n",
        "\n",
        "Histogram memiliki positive skew. Memiliki kurtosis platykurtic karena bentuknya lebih lebar dari histogram yang berdistribusi normal."
      ]
    },
    {
      "cell_type": "markdown",
      "metadata": {
        "id": "tTI4K9idqKuP"
      },
      "source": [
        "## Keliling\n",
        "\n",
        "\n",
        "---\n",
        "\n"
      ]
    },
    {
      "cell_type": "code",
      "metadata": {
        "id": "ku57F_ifBity",
        "colab": {
          "base_uri": "https://localhost:8080/",
          "height": 267
        },
        "outputId": "63b864ca-7e4c-4d97-f7ea-b3e982f8327c"
      },
      "source": [
        "df = pd.DataFrame(data = gandum, columns = ['keliling'])\n",
        "boxplot = df.boxplot(column = ['keliling'])"
      ],
      "execution_count": 552,
      "outputs": [
        {
          "output_type": "display_data",
          "data": {
            "image/png": "[encoded data removed]",
            "text/plain": [
              "<Figure size 432x288 with 1 Axes>"
            ]
          },
          "metadata": {
            "tags": [],
            "needs_background": "light"
          }
        }
      ]
    },
    {
      "cell_type": "code",
      "metadata": {
        "id": "dbuB1wPsGVqk",
        "colab": {
          "base_uri": "https://localhost:8080/",
          "height": 265
        },
        "outputId": "cab25d05-ab8f-4249-8534-154d4e4e04e8"
      },
      "source": [
        "df = pd.DataFrame(data = gandum, columns = ['keliling'])\n",
        "hist = df.plot.hist(bins = 10, color = '#420420', edgecolor='black')"
      ],
      "execution_count": 553,
      "outputs": [
        {
          "output_type": "display_data",
          "data": {
            "image/png": "[encoded data removed]",
            "text/plain": [
              "<Figure size 432x288 with 1 Axes>"
            ]
          },
          "metadata": {
            "tags": [],
            "needs_background": "light"
          }
        }
      ]
    },
    {
      "cell_type": "markdown",
      "metadata": {
        "id": "CwazuHmYrCPi"
      },
      "source": [
        "Uraian:\n",
        "\n",
        "Terdapat outlier pada boxplot hal ini dapat dibuktikan dengan adanya nilai yang lebih besar dari upper tail\n",
        "\n",
        "Lower tail menandakan nilai Q1 - 1.5*IQR dan Upper tail menandakan nilai Q3 + 1.5*IQR. Posisi kedua tail sesuai karena berdasarkan perhitungan lower tail :  180.61375 dan upper tail : 381.33175\n",
        "\n",
        "Pada box ditunjukkan Q1, Q2, Q3. Q1 adalah bagian bawah dari box, Q2 adalah bagian tengah dan juga median, Q3 adalah bagian atas dari box. Posisi ketiga kuartil sesuai karena Q1: 255.8830, Q2: 280.0455, Q3: 306.0625. Jarak antara Bagian atas dan bagian bawah adalah nilai IQR. \n",
        "\n",
        "Histogram memiliki negative skew. Memiliki kurtosis leptokurtic karena bentuknya lebih ramping dari histogram yang berdistribusi normal. Terdapat outlier pada histogram.\n"
      ]
    },
    {
      "cell_type": "markdown",
      "metadata": {
        "id": "DUBsvbeuqOyb"
      },
      "source": [
        "## Bulatan"
      ]
    },
    {
      "cell_type": "code",
      "metadata": {
        "id": "SGf9bIiqBoLh",
        "colab": {
          "base_uri": "https://localhost:8080/",
          "height": 265
        },
        "outputId": "3f0d197c-cc99-4e67-e9a5-d6f3d405133a"
      },
      "source": [
        "df = pd.DataFrame(data = gandum, columns = ['bulatan'])\n",
        "boxplot = df.boxplot(column = ['bulatan'])"
      ],
      "execution_count": 554,
      "outputs": [
        {
          "output_type": "display_data",
          "data": {
            "image/png": "[encoded data removed]",
            "text/plain": [
              "<Figure size 432x288 with 1 Axes>"
            ]
          },
          "metadata": {
            "tags": [],
            "needs_background": "light"
          }
        }
      ]
    },
    {
      "cell_type": "code",
      "metadata": {
        "id": "E18hA6bZFy2I",
        "colab": {
          "base_uri": "https://localhost:8080/",
          "height": 265
        },
        "outputId": "6e1d035f-e01f-446c-f22f-d2acba0c5c5e"
      },
      "source": [
        "df = pd.DataFrame(data = gandum, columns = ['bulatan'])\n",
        "hist = df.plot.hist(bins = 10, color = '#696969', edgecolor='black')"
      ],
      "execution_count": 555,
      "outputs": [
        {
          "output_type": "display_data",
          "data": {
            "image/png": "[encoded data removed]",
            "text/plain": [
              "<Figure size 432x288 with 1 Axes>"
            ]
          },
          "metadata": {
            "tags": [],
            "needs_background": "light"
          }
        }
      ]
    },
    {
      "cell_type": "markdown",
      "metadata": {
        "id": "2sTJYTxWrDC1"
      },
      "source": [
        "Uraian:\n",
        "\n",
        "Terdapat outlier pada boxplot. Hal ini dapat dibuktikan dengan adanya nilai max dan min yang lebih dari upper tail dan kurang dari lower tail\n",
        "\n",
        "Lower tail menandakan nilai Q1 - 1.5*IQR dan Upper tail menandakan nilai Q3 + 1.5*IQR. Posisi kedua tail sesuai karena berdasarkan perhitungan lower tail :  0.635436 dan upper tail : 0.892916\n",
        "\n",
        "Pada box ditunjukkan Q1, Q2, Q3. Q1 adalah bagian bawah dari box, Q2 adalah bagian tengah dan juga median, Q3 adalah bagian atas dari box. Posisi ketiga kuartil sesuai karena Q1: 0.731991, Q2: 0.761288, Q3: 0.796361. Jarak antara Bagian atas dan bagian bawah adalah nilai IQR. \n",
        "\n",
        "\n",
        "Histogram negative skew. Memiliki kurtosis \n",
        "leptokurtic karena bentuknya lebih ramping dari histogram yang berdistribusi normal\n",
        ". Terdapat outlier pada histogram"
      ]
    },
    {
      "cell_type": "markdown",
      "metadata": {
        "id": "k7cNW7wRqQgO"
      },
      "source": [
        "## Ransum"
      ]
    },
    {
      "cell_type": "code",
      "metadata": {
        "id": "z3GLljMiBrpa",
        "colab": {
          "base_uri": "https://localhost:8080/",
          "height": 265
        },
        "outputId": "23de2ccf-742b-4234-b6d0-e0ae358f2134"
      },
      "source": [
        "df = pd.DataFrame(data = gandum, columns = ['ransum'])\n",
        "boxplot = df.boxplot(column = ['ransum'])"
      ],
      "execution_count": 556,
      "outputs": [
        {
          "output_type": "display_data",
          "data": {
            "image/png": "[encoded data removed]",
            "text/plain": [
              "<Figure size 432x288 with 1 Axes>"
            ]
          },
          "metadata": {
            "tags": [],
            "needs_background": "light"
          }
        }
      ]
    },
    {
      "cell_type": "code",
      "metadata": {
        "id": "4TlLG0uXGoqG",
        "colab": {
          "base_uri": "https://localhost:8080/",
          "height": 265
        },
        "outputId": "5730d115-ccb1-4e29-f38d-e7a0a178abd1"
      },
      "source": [
        "df = pd.DataFrame(data = gandum, columns = ['ransum'])\n",
        "hist = df.plot.hist(bins = 10, color = '#1A1E43', edgecolor='black')"
      ],
      "execution_count": 557,
      "outputs": [
        {
          "output_type": "display_data",
          "data": {
            "image/png": "[encoded data removed]",
            "text/plain": [
              "<Figure size 432x288 with 1 Axes>"
            ]
          },
          "metadata": {
            "tags": [],
            "needs_background": "light"
          }
        }
      ]
    },
    {
      "cell_type": "markdown",
      "metadata": {
        "id": "N_BK4EbFrEC-"
      },
      "source": [
        "Uraian:\n",
        "\n",
        "Tidak terdapat outlier pada boxplot\n",
        "\n",
        "Lower tail menandakan nilai Q1 - 1.5*IQR dan Upper tail menandakan nilai Q3 + 1.5*IQR. Posisi kedua tail sesuai karena berdasarkan perhitungan lower tail : 1.3874295 dan upper tail : 2.9781215\n",
        "\n",
        "Pada box ditunjukkan Q1, Q2, Q3. Q1 adalah bagian bawah dari box, Q2 adalah bagian tengah dan juga median, Q3 adalah bagian atas dari box. Posisi ketiga kuartil sesuai karena Q1: 1.983939, Q2: 2.193599, Q3:  2.381612. Jarak antara Bagian atas dan bagian bawah adalah nilai IQR. \n",
        "\n",
        "Histogram negative skew. Memiliki kurtosis platykurtic karena bentuknya lebih lebar dari histogram yang berdistribusi normal. "
      ]
    },
    {
      "cell_type": "markdown",
      "metadata": {
        "id": "OVtesgrFNpCg"
      },
      "source": [
        "# **Normality Test**"
      ]
    },
    {
      "cell_type": "markdown",
      "metadata": {
        "id": "9jj5IcNx6_kB"
      },
      "source": [
        "Daerah\n",
        "---"
      ]
    },
    {
      "cell_type": "code",
      "metadata": {
        "id": "nziIOhU57Ma3",
        "colab": {
          "base_uri": "https://localhost:8080/"
        },
        "outputId": "4fdf1674-f2e2-4a4c-99c3-3820ac6dfb30"
      },
      "source": [
        "df = pd.DataFrame(data = gandum, columns = ['daerah'])\n",
        "stat, p = s.shapiro(df) #shapiro wilks\n",
        "print(\"p = {:g}\".format(p))\n",
        "if p <= alpha: #jika p value dibawah atau sama dengan alpha, maka tidak berdistribusi normal\n",
        "    print(\"Tidak berdistribusi normal\")\n",
        "else:\n",
        "    print(\"Berdistribusi normal\")"
      ],
      "execution_count": 558,
      "outputs": [
        {
          "output_type": "stream",
          "text": [
            "p = 0.0032707\n",
            "Tidak berdistribusi normal\n"
          ],
          "name": "stdout"
        }
      ]
    },
    {
      "cell_type": "code",
      "metadata": {
        "id": "C6LSV1nF7DCB",
        "colab": {
          "base_uri": "https://localhost:8080/",
          "height": 350
        },
        "outputId": "5e8f9089-34c7-49f4-b137-81621faf1280"
      },
      "source": [
        "sns.distplot(gandum['daerah'])"
      ],
      "execution_count": 559,
      "outputs": [
        {
          "output_type": "stream",
          "text": [
            "/usr/local/lib/python3.7/dist-packages/seaborn/distributions.py:2557: FutureWarning: `distplot` is a deprecated function and will be removed in a future version. Please adapt your code to use either `displot` (a figure-level function with similar flexibility) or `histplot` (an axes-level function for histograms).\n",
            "  warnings.warn(msg, FutureWarning)\n"
          ],
          "name": "stderr"
        },
        {
          "output_type": "execute_result",
          "data": {
            "text/plain": [
              "<matplotlib.axes._subplots.AxesSubplot at 0x7f556f808090>"
            ]
          },
          "metadata": {
            "tags": []
          },
          "execution_count": 559
        },
        {
          "output_type": "display_data",
          "data": {
            "image/png": "[encoded data removed]",
            "text/plain": [
              "<Figure size 432x288 with 1 Axes>"
            ]
          },
          "metadata": {
            "tags": [],
            "needs_background": "light"
          }
        }
      ]
    },
    {
      "cell_type": "markdown",
      "metadata": {
        "id": "SFlSYB8fRssQ"
      },
      "source": [
        "Penjelasan : \n",
        "Kolom daerah melalui normality test shapiro-wilks mendapatkan p-value sebesar 0.00327 yang lebih kecil dari nilai alpha 0.05 sehingga tidak bisa dianggap berdistribusi normal. Dari histogram juga terlihat bahwa distribusi data daerah tidak berbentuk bell curve."
      ]
    },
    {
      "cell_type": "markdown",
      "metadata": {
        "id": "XB3a_3mr810v"
      },
      "source": [
        "Sumbu Utama\n",
        "---"
      ]
    },
    {
      "cell_type": "code",
      "metadata": {
        "id": "eIHnW7yy4qHD",
        "colab": {
          "base_uri": "https://localhost:8080/"
        },
        "outputId": "8e755ab3-693e-4a7a-f811-dd3599756cfe"
      },
      "source": [
        "df = pd.DataFrame(data = gandum, columns = ['sumbu utama'])\n",
        "stat, p = s.shapiro(df) #shapiro wilks\n",
        "print(\"p = {:g}\".format(p))\n",
        "if p <= alpha:  #jika p value dibawah atau sama dengan alpha, maka tidak berdistribusi normal\n",
        "    print(\"Tidak berdistribusi normal\")\n",
        "else:\n",
        "    print(\"Berdistribusi normal\")"
      ],
      "execution_count": 560,
      "outputs": [
        {
          "output_type": "stream",
          "text": [
            "p = 9.2362e-12\n",
            "Tidak berdistribusi normal\n"
          ],
          "name": "stdout"
        }
      ]
    },
    {
      "cell_type": "code",
      "metadata": {
        "colab": {
          "base_uri": "https://localhost:8080/",
          "height": 350
        },
        "id": "6WOFValQ8vSv",
        "outputId": "eb27d2cc-90cf-4a13-9723-1c654cb26ded"
      },
      "source": [
        "sns.distplot(gandum['sumbu utama'])"
      ],
      "execution_count": 561,
      "outputs": [
        {
          "output_type": "stream",
          "text": [
            "/usr/local/lib/python3.7/dist-packages/seaborn/distributions.py:2557: FutureWarning: `distplot` is a deprecated function and will be removed in a future version. Please adapt your code to use either `displot` (a figure-level function with similar flexibility) or `histplot` (an axes-level function for histograms).\n",
            "  warnings.warn(msg, FutureWarning)\n"
          ],
          "name": "stderr"
        },
        {
          "output_type": "execute_result",
          "data": {
            "text/plain": [
              "<matplotlib.axes._subplots.AxesSubplot at 0x7f556f7945d0>"
            ]
          },
          "metadata": {
            "tags": []
          },
          "execution_count": 561
        },
        {
          "output_type": "display_data",
          "data": {
            "image/png": "[encoded data removed]",
            "text/plain": [
              "<Figure size 432x288 with 1 Axes>"
            ]
          },
          "metadata": {
            "tags": [],
            "needs_background": "light"
          }
        }
      ]
    },
    {
      "cell_type": "markdown",
      "metadata": {
        "id": "o5RV7JWUrjS8"
      },
      "source": [
        "Penjelasan:\n",
        "Dari normality test shapiro-wilks, kolom sumbu utama mendapatkan p-value bernilai 9.2362e-12 yang jauh dibawah nilai alpha 0.05. Jadi kolom sumbu utama tidak berdistribusi normal. Dari histogram juga bisa dilihat distribusi data kolom sumbu utama yang bentuknya beda jauh dari bell curve."
      ]
    },
    {
      "cell_type": "markdown",
      "metadata": {
        "id": "Be0zcYeo9Baq"
      },
      "source": [
        "Sumbu Kecil\n",
        "---"
      ]
    },
    {
      "cell_type": "code",
      "metadata": {
        "colab": {
          "base_uri": "https://localhost:8080/"
        },
        "id": "ptsvQvyU3Nrg",
        "outputId": "ce732a40-076e-43c6-d7d0-8e6619feb828"
      },
      "source": [
        "df = pd.DataFrame(data = gandum, columns = ['sumbu kecil'])\n",
        "stat, p = s.shapiro(df) #shapiro wilks\n",
        "print(\"p = {:g}\".format(p))\n",
        "if p <= alpha:  #jika p value dibawah atau sama dengan alpha, maka tidak berdistribusi normal\n",
        "    print(\"Tidak berdistribusi normal\")\n",
        "else:\n",
        "    print(\"Berdistribusi normal\")"
      ],
      "execution_count": 562,
      "outputs": [
        {
          "output_type": "stream",
          "text": [
            "p = 0.423456\n",
            "Berdistribusi normal\n"
          ],
          "name": "stdout"
        }
      ]
    },
    {
      "cell_type": "code",
      "metadata": {
        "colab": {
          "base_uri": "https://localhost:8080/",
          "height": 350
        },
        "id": "jcRdLLLU9FGc",
        "outputId": "bb00518e-2199-4daa-c1c8-dcce0e9c3915"
      },
      "source": [
        "sns.distplot(gandum['sumbu kecil'])"
      ],
      "execution_count": 563,
      "outputs": [
        {
          "output_type": "stream",
          "text": [
            "/usr/local/lib/python3.7/dist-packages/seaborn/distributions.py:2557: FutureWarning: `distplot` is a deprecated function and will be removed in a future version. Please adapt your code to use either `displot` (a figure-level function with similar flexibility) or `histplot` (an axes-level function for histograms).\n",
            "  warnings.warn(msg, FutureWarning)\n"
          ],
          "name": "stderr"
        },
        {
          "output_type": "execute_result",
          "data": {
            "text/plain": [
              "<matplotlib.axes._subplots.AxesSubplot at 0x7f556f6d2990>"
            ]
          },
          "metadata": {
            "tags": []
          },
          "execution_count": 563
        },
        {
          "output_type": "display_data",
          "data": {
            "image/png": "[encoded data removed]",
            "text/plain": [
              "<Figure size 432x288 with 1 Axes>"
            ]
          },
          "metadata": {
            "tags": [],
            "needs_background": "light"
          }
        }
      ]
    },
    {
      "cell_type": "markdown",
      "metadata": {
        "id": "BUITLccGrl5c"
      },
      "source": [
        "Penjelasan: \n",
        "Dari normality test shapiro-wilks, kolom sumbu kecil mendapatkan nilai 0.423456 yang jauh di atas nilai alpha 0.05. Dari ini dapat disimpulkan kolom sumbu kecil berdistribusi normal. Dapat dilihat juga dari histogramnya bahwa distribusi data di di kolom sumbu kecil menyerupai bell curve yang merupakan penanda bahwa berdistribusi normal."
      ]
    },
    {
      "cell_type": "markdown",
      "metadata": {
        "id": "jEJR86R0AIyQ"
      },
      "source": [
        "Keunikan\n",
        "---"
      ]
    },
    {
      "cell_type": "code",
      "metadata": {
        "colab": {
          "base_uri": "https://localhost:8080/"
        },
        "id": "b7p-8lN-95TJ",
        "outputId": "dd7b91d5-d734-47fb-9fce-b7d517089301"
      },
      "source": [
        "df = pd.DataFrame(data = gandum, columns = ['keunikan'])\n",
        "stat, p = s.shapiro(df) #shapiro wilks\n",
        "print(\"p = {:g}\".format(p))\n",
        "if p <= alpha:  #jika p value dibawah atau sama dengan alpha, maka tidak berdistribusi normal\n",
        "    print(\"Tidak berdistribusi normal\")\n",
        "else:\n",
        "    print(\"Berdistribusi normal\")"
      ],
      "execution_count": 564,
      "outputs": [
        {
          "output_type": "stream",
          "text": [
            "p = 1.31517e-22\n",
            "Tidak berdistribusi normal\n"
          ],
          "name": "stdout"
        }
      ]
    },
    {
      "cell_type": "code",
      "metadata": {
        "colab": {
          "base_uri": "https://localhost:8080/",
          "height": 350
        },
        "id": "uQ9mD-0BAL_y",
        "outputId": "45bd2ca4-2534-4c5c-c0bb-8828bcb669c8"
      },
      "source": [
        "sns.distplot(gandum['keunikan'])"
      ],
      "execution_count": 565,
      "outputs": [
        {
          "output_type": "stream",
          "text": [
            "/usr/local/lib/python3.7/dist-packages/seaborn/distributions.py:2557: FutureWarning: `distplot` is a deprecated function and will be removed in a future version. Please adapt your code to use either `displot` (a figure-level function with similar flexibility) or `histplot` (an axes-level function for histograms).\n",
            "  warnings.warn(msg, FutureWarning)\n"
          ],
          "name": "stderr"
        },
        {
          "output_type": "execute_result",
          "data": {
            "text/plain": [
              "<matplotlib.axes._subplots.AxesSubplot at 0x7f556f671ed0>"
            ]
          },
          "metadata": {
            "tags": []
          },
          "execution_count": 565
        },
        {
          "output_type": "display_data",
          "data": {
            "image/png": "[encoded data removed]",
            "text/plain": [
              "<Figure size 432x288 with 1 Axes>"
            ]
          },
          "metadata": {
            "tags": [],
            "needs_background": "light"
          }
        }
      ]
    },
    {
      "cell_type": "markdown",
      "metadata": {
        "id": "HbKP-8bBroxg"
      },
      "source": [
        "Penjelasan: \n",
        "Dari normality test shapiro-wilks, didapatkan p-value bernilai 1.31517e-22 yang jauh dibawah nilai alpha 0.05 sehingga dapat disimpulkan kolom keunikan tidak berdistribusi normal. Dari histogram juga dapat dilihat bahwa distribusinya tidak berbentuk bell curve."
      ]
    },
    {
      "cell_type": "markdown",
      "metadata": {
        "id": "_nw62S7MAYkA"
      },
      "source": [
        "Area Bulatan\n",
        "---"
      ]
    },
    {
      "cell_type": "code",
      "metadata": {
        "colab": {
          "base_uri": "https://localhost:8080/"
        },
        "id": "TSoHfafJA-N9",
        "outputId": "e2302374-889a-45d5-9556-153d95ff50ba"
      },
      "source": [
        "df = pd.DataFrame(data = gandum, columns = ['area bulatan'])\n",
        "stat, p = s.shapiro(df) #shapiro wilks\n",
        "print(\"p = {:g}\".format(p))\n",
        "if p <= alpha:  #jika p value dibawah atau sama dengan alpha, maka tidak berdistribusi normal\n",
        "    print(\"Tidak berdistribusi normal\")\n",
        "else:\n",
        "    print(\"Berdistribusi normal\")"
      ],
      "execution_count": 566,
      "outputs": [
        {
          "output_type": "stream",
          "text": [
            "p = 0.00248471\n",
            "Tidak berdistribusi normal\n"
          ],
          "name": "stdout"
        }
      ]
    },
    {
      "cell_type": "code",
      "metadata": {
        "colab": {
          "base_uri": "https://localhost:8080/",
          "height": 350
        },
        "id": "7SSiriR1A8Bq",
        "outputId": "801a8aed-da2f-4a25-b7f0-2bd5010bad07"
      },
      "source": [
        "sns.distplot(gandum['area bulatan'])"
      ],
      "execution_count": 567,
      "outputs": [
        {
          "output_type": "stream",
          "text": [
            "/usr/local/lib/python3.7/dist-packages/seaborn/distributions.py:2557: FutureWarning: `distplot` is a deprecated function and will be removed in a future version. Please adapt your code to use either `displot` (a figure-level function with similar flexibility) or `histplot` (an axes-level function for histograms).\n",
            "  warnings.warn(msg, FutureWarning)\n"
          ],
          "name": "stderr"
        },
        {
          "output_type": "execute_result",
          "data": {
            "text/plain": [
              "<matplotlib.axes._subplots.AxesSubplot at 0x7f556f596350>"
            ]
          },
          "metadata": {
            "tags": []
          },
          "execution_count": 567
        },
        {
          "output_type": "display_data",
          "data": {
            "image/png": "[encoded data removed]",
            "text/plain": [
              "<Figure size 432x288 with 1 Axes>"
            ]
          },
          "metadata": {
            "tags": [],
            "needs_background": "light"
          }
        }
      ]
    },
    {
      "cell_type": "markdown",
      "metadata": {
        "id": "XXnrLFNprrjH"
      },
      "source": [
        "Penjelasan: \n",
        "Dari normality test shapiro-wilks, didapatkan p-value sebesar 0.00248 yang berada dibawah nilai alpha 0.05 sehingga dapat disimpulkan kolom area bulatan tidak berdistribusi normal. Dari histogram pun dapat dilihat bahwa distribusinya tidak berbentuk bell curve."
      ]
    },
    {
      "cell_type": "markdown",
      "metadata": {
        "id": "xIAR7L-BAbvZ"
      },
      "source": [
        "Diameter\n",
        "---"
      ]
    },
    {
      "cell_type": "code",
      "metadata": {
        "colab": {
          "base_uri": "https://localhost:8080/"
        },
        "id": "8F8_ljm6BEzI",
        "outputId": "43da9b0c-a110-4ec4-aa2f-c9698e3d0668"
      },
      "source": [
        "df = pd.DataFrame(data = gandum, columns = ['diameter'])\n",
        "stat, p = s.shapiro(df) #shapiro wilks\n",
        "print(\"p = {:g}\".format(p))\n",
        "if p <= alpha:  #jika p value dibawah atau sama dengan alpha, maka tidak berdistribusi normal\n",
        "    print(\"Tidak berdistribusi normal\")\n",
        "else:\n",
        "    print(\"Berdistribusi normal\")"
      ],
      "execution_count": 568,
      "outputs": [
        {
          "output_type": "stream",
          "text": [
            "p = 0.118345\n",
            "Berdistribusi normal\n"
          ],
          "name": "stdout"
        }
      ]
    },
    {
      "cell_type": "code",
      "metadata": {
        "colab": {
          "base_uri": "https://localhost:8080/",
          "height": 350
        },
        "id": "Mxj0RrOaBChX",
        "outputId": "3b72453e-f5bf-4308-ec35-78f3e9e6bbd4"
      },
      "source": [
        "sns.distplot(gandum['diameter'])"
      ],
      "execution_count": 569,
      "outputs": [
        {
          "output_type": "stream",
          "text": [
            "/usr/local/lib/python3.7/dist-packages/seaborn/distributions.py:2557: FutureWarning: `distplot` is a deprecated function and will be removed in a future version. Please adapt your code to use either `displot` (a figure-level function with similar flexibility) or `histplot` (an axes-level function for histograms).\n",
            "  warnings.warn(msg, FutureWarning)\n"
          ],
          "name": "stderr"
        },
        {
          "output_type": "execute_result",
          "data": {
            "text/plain": [
              "<matplotlib.axes._subplots.AxesSubplot at 0x7f556f582750>"
            ]
          },
          "metadata": {
            "tags": []
          },
          "execution_count": 569
        },
        {
          "output_type": "display_data",
          "data": {
            "image/png": "[encoded data removed]",
            "text/plain": [
              "<Figure size 432x288 with 1 Axes>"
            ]
          },
          "metadata": {
            "tags": [],
            "needs_background": "light"
          }
        }
      ]
    },
    {
      "cell_type": "markdown",
      "metadata": {
        "id": "mN5xFX4BruQP"
      },
      "source": [
        "Penjelasan: \n",
        "Dari normality test shapiro-wilks, didapatkan nilai p-value 0.1118345 yang lebih dari nilai alpha 0.05 sehingga dapat disimpulkan kolom diameter berdistribusi normal. Dari histogramnya dapat dilihat distribusi datanya lumayan berbentuk bell curve yang menandakan bahwa kolom diameter berdistribusi normal."
      ]
    },
    {
      "cell_type": "markdown",
      "metadata": {
        "id": "R70pDA-jAeiL"
      },
      "source": [
        "Kadar Air\n",
        "---"
      ]
    },
    {
      "cell_type": "code",
      "metadata": {
        "colab": {
          "base_uri": "https://localhost:8080/"
        },
        "id": "w7wgHQ2jBSIG",
        "outputId": "a3f90f5b-e5ff-41ed-d393-881cb174b743"
      },
      "source": [
        "df = pd.DataFrame(data = gandum, columns = ['kadar air'])\n",
        "stat, p = s.shapiro(df) #shapiro wilks\n",
        "print(\"p = {:g}\".format(p))\n",
        "if p <= alpha:  #jika p value dibawah atau sama dengan alpha, maka tidak berdistribusi normal\n",
        "    print(\"Tidak berdistribusi normal\")\n",
        "else:\n",
        "    print(\"Berdistribusi normal\")"
      ],
      "execution_count": 570,
      "outputs": [
        {
          "output_type": "stream",
          "text": [
            "p = 1.9595e-12\n",
            "Tidak berdistribusi normal\n"
          ],
          "name": "stdout"
        }
      ]
    },
    {
      "cell_type": "code",
      "metadata": {
        "colab": {
          "base_uri": "https://localhost:8080/",
          "height": 350
        },
        "id": "nH9pbOd-BPdk",
        "outputId": "da5cc4d1-fba9-4af7-ca35-5cd3df2a1a47"
      },
      "source": [
        "sns.distplot(gandum['kadar air'])"
      ],
      "execution_count": 571,
      "outputs": [
        {
          "output_type": "stream",
          "text": [
            "/usr/local/lib/python3.7/dist-packages/seaborn/distributions.py:2557: FutureWarning: `distplot` is a deprecated function and will be removed in a future version. Please adapt your code to use either `displot` (a figure-level function with similar flexibility) or `histplot` (an axes-level function for histograms).\n",
            "  warnings.warn(msg, FutureWarning)\n"
          ],
          "name": "stderr"
        },
        {
          "output_type": "execute_result",
          "data": {
            "text/plain": [
              "<matplotlib.axes._subplots.AxesSubplot at 0x7f556fa1ab50>"
            ]
          },
          "metadata": {
            "tags": []
          },
          "execution_count": 571
        },
        {
          "output_type": "display_data",
          "data": {
            "image/png": "[encoded data removed]",
            "text/plain": [
              "<Figure size 432x288 with 1 Axes>"
            ]
          },
          "metadata": {
            "tags": [],
            "needs_background": "light"
          }
        }
      ]
    },
    {
      "cell_type": "markdown",
      "metadata": {
        "id": "GZZ-h0q2rwT_"
      },
      "source": [
        "Penjelasan:\n",
        "Dari normality test shapiro-wilks, didapatkan p-value sebesar 1.9595e-12 yang berada jauh dibawah nilai alpha 0.05 sehingga dapat disimpulkan kolom kadar air tidak berdistribusi normal. Dari histogram pun dapat dilihat bahwa distribusinya tidak berbentuk bell curve "
      ]
    },
    {
      "cell_type": "markdown",
      "metadata": {
        "id": "rJEE5MNUAgSi"
      },
      "source": [
        "Keliling\n",
        "---"
      ]
    },
    {
      "cell_type": "code",
      "metadata": {
        "colab": {
          "base_uri": "https://localhost:8080/"
        },
        "id": "67n3LeS_BXN5",
        "outputId": "e96ffee6-fd8c-4fc1-ff0a-4237ae481ea9"
      },
      "source": [
        "df = pd.DataFrame(data = gandum, columns = ['keliling'])\n",
        "stat, p = s.shapiro(df) #shapiro wilks\n",
        "print(\"p = {:g}\".format(p))\n",
        "if p <= alpha:  #jika p value dibawah atau sama dengan alpha, maka tidak berdistribusi normal\n",
        "    print(\"Tidak berdistribusi normal\")\n",
        "else:\n",
        "    print(\"Berdistribusi normal\")"
      ],
      "execution_count": 572,
      "outputs": [
        {
          "output_type": "stream",
          "text": [
            "p = 9.72839e-09\n",
            "Tidak berdistribusi normal\n"
          ],
          "name": "stdout"
        }
      ]
    },
    {
      "cell_type": "code",
      "metadata": {
        "colab": {
          "base_uri": "https://localhost:8080/",
          "height": 350
        },
        "id": "iaaug2LmBWxu",
        "outputId": "c0efb95a-b4ae-402e-9b31-09833e2b8a95"
      },
      "source": [
        "sns.distplot(gandum['keliling'])"
      ],
      "execution_count": 573,
      "outputs": [
        {
          "output_type": "stream",
          "text": [
            "/usr/local/lib/python3.7/dist-packages/seaborn/distributions.py:2557: FutureWarning: `distplot` is a deprecated function and will be removed in a future version. Please adapt your code to use either `displot` (a figure-level function with similar flexibility) or `histplot` (an axes-level function for histograms).\n",
            "  warnings.warn(msg, FutureWarning)\n"
          ],
          "name": "stderr"
        },
        {
          "output_type": "execute_result",
          "data": {
            "text/plain": [
              "<matplotlib.axes._subplots.AxesSubplot at 0x7f5570831590>"
            ]
          },
          "metadata": {
            "tags": []
          },
          "execution_count": 573
        },
        {
          "output_type": "display_data",
          "data": {
            "image/png": "[encoded data removed]",
            "text/plain": [
              "<Figure size 432x288 with 1 Axes>"
            ]
          },
          "metadata": {
            "tags": [],
            "needs_background": "light"
          }
        }
      ]
    },
    {
      "cell_type": "markdown",
      "metadata": {
        "id": "yhdDbBvnrzc-"
      },
      "source": [
        "Penjelasan: \n",
        "Dari normality test shapiro-wilks, didapatkan p-value sebesar 9.72839e-09 yang berada jauh dibawah nilai alpha 0.05 sehingga dapat disimpulkan kolom keliling tidak berdistribusi normal. Dari histogram pun dapat dilihat bahwa distribusinya tidak berbentuk bell curve"
      ]
    },
    {
      "cell_type": "markdown",
      "metadata": {
        "id": "RhzaFmagAmCh"
      },
      "source": [
        "Bulatan\n",
        "---"
      ]
    },
    {
      "cell_type": "code",
      "metadata": {
        "colab": {
          "base_uri": "https://localhost:8080/"
        },
        "id": "M6cjkBbABdVt",
        "outputId": "d20dccd1-2239-4df6-b596-2ca87b6a0545"
      },
      "source": [
        "df = pd.DataFrame(data = gandum, columns = ['bulatan'])\n",
        "stat, p = s.shapiro(df) #shapiro wilks\n",
        "print(\"p = {:g}\".format(p))\n",
        "if p <= alpha:  #jika p value dibawah atau sama dengan alpha, maka tidak berdistribusi normal\n",
        "    print(\"Tidak berdistribusi normal\")\n",
        "else:\n",
        "    print(\"Berdistribusi normal\")"
      ],
      "execution_count": 574,
      "outputs": [
        {
          "output_type": "stream",
          "text": [
            "p = 6.89916e-26\n",
            "Tidak berdistribusi normal\n"
          ],
          "name": "stdout"
        }
      ]
    },
    {
      "cell_type": "code",
      "metadata": {
        "colab": {
          "base_uri": "https://localhost:8080/",
          "height": 350
        },
        "id": "UPiRzxv6Bcrt",
        "outputId": "9d026994-f186-4bb2-de86-e291af13de9b"
      },
      "source": [
        "sns.distplot(gandum['bulatan'])"
      ],
      "execution_count": 575,
      "outputs": [
        {
          "output_type": "stream",
          "text": [
            "/usr/local/lib/python3.7/dist-packages/seaborn/distributions.py:2557: FutureWarning: `distplot` is a deprecated function and will be removed in a future version. Please adapt your code to use either `displot` (a figure-level function with similar flexibility) or `histplot` (an axes-level function for histograms).\n",
            "  warnings.warn(msg, FutureWarning)\n"
          ],
          "name": "stderr"
        },
        {
          "output_type": "execute_result",
          "data": {
            "text/plain": [
              "<matplotlib.axes._subplots.AxesSubplot at 0x7f55707c2e10>"
            ]
          },
          "metadata": {
            "tags": []
          },
          "execution_count": 575
        },
        {
          "output_type": "display_data",
          "data": {
            "image/png": "[encoded data removed]",
            "text/plain": [
              "<Figure size 432x288 with 1 Axes>"
            ]
          },
          "metadata": {
            "tags": [],
            "needs_background": "light"
          }
        }
      ]
    },
    {
      "cell_type": "markdown",
      "metadata": {
        "id": "ZushFSgBr1rz"
      },
      "source": [
        "Penjelasan: \n",
        "Dari normality test shapiro-wilks, didapatkan p-value sebesar 6.89916e-26 yang berada jauh dibawah nilai alpha 0.05 sehingga dapat disimpulkan kolom bulatan tidak berdistribusi normal. Dari histogram pun dapat dilihat bahwa distribusinya tidak berbentuk bell curve"
      ]
    },
    {
      "cell_type": "markdown",
      "metadata": {
        "id": "9kTitEHBAn3O"
      },
      "source": [
        "Ransum\n",
        "---"
      ]
    },
    {
      "cell_type": "code",
      "metadata": {
        "colab": {
          "base_uri": "https://localhost:8080/"
        },
        "id": "1yw1ZH4c5F3b",
        "outputId": "6003e33e-a81c-4be9-9ae5-3d2b6b8fd075"
      },
      "source": [
        "df = pd.DataFrame(data = gandum, columns = ['ransum'])\n",
        "stat, p = s.shapiro(df) #shapiro wilks\n",
        "print(\"p = {:g}\".format(p))\n",
        "if p <= alpha:  #jika p value dibawah atau sama dengan alpha, maka tidak berdistribusi normal\n",
        "    print(\"Tidak berdistribusi normal\")\n",
        "else:\n",
        "    print(\"Berdistribusi normal\")"
      ],
      "execution_count": 576,
      "outputs": [
        {
          "output_type": "stream",
          "text": [
            "p = 6.24554e-15\n",
            "Tidak berdistribusi normal\n"
          ],
          "name": "stdout"
        }
      ]
    },
    {
      "cell_type": "code",
      "metadata": {
        "colab": {
          "base_uri": "https://localhost:8080/",
          "height": 350
        },
        "id": "KvkEfTC0AYTy",
        "outputId": "9cf81559-4f29-4ad5-d129-60db428d770b"
      },
      "source": [
        "sns.distplot(gandum['ransum'])"
      ],
      "execution_count": 577,
      "outputs": [
        {
          "output_type": "stream",
          "text": [
            "/usr/local/lib/python3.7/dist-packages/seaborn/distributions.py:2557: FutureWarning: `distplot` is a deprecated function and will be removed in a future version. Please adapt your code to use either `displot` (a figure-level function with similar flexibility) or `histplot` (an axes-level function for histograms).\n",
            "  warnings.warn(msg, FutureWarning)\n"
          ],
          "name": "stderr"
        },
        {
          "output_type": "execute_result",
          "data": {
            "text/plain": [
              "<matplotlib.axes._subplots.AxesSubplot at 0x7f55709f6f50>"
            ]
          },
          "metadata": {
            "tags": []
          },
          "execution_count": 577
        },
        {
          "output_type": "display_data",
          "data": {
            "image/png": "[encoded data removed]",
            "text/plain": [
              "<Figure size 432x288 with 1 Axes>"
            ]
          },
          "metadata": {
            "tags": [],
            "needs_background": "light"
          }
        }
      ]
    },
    {
      "cell_type": "markdown",
      "metadata": {
        "id": "lFYUTJAMr31j"
      },
      "source": [
        "Penjelasan:\n",
        "Dari normality test shapiro-wilks, didapatkan p-value sebesar 6.24554e-15 yang berada jauh dibawah nilai alpha 0.05 sehingga dapat disimpulkan kolom ransum tidak berdistribusi normal. Dari histogram pun dapat dilihat bahwa distribusinya tidak berbentuk bell curve "
      ]
    },
    {
      "cell_type": "markdown",
      "metadata": {
        "id": "_mhXueCQSLNW"
      },
      "source": [
        "# **Test Hipotesis 1 Sampel**\n"
      ]
    },
    {
      "cell_type": "markdown",
      "metadata": {
        "id": "n1IV6DIgCEAR"
      },
      "source": [
        "A) Nilai rata-rata Daerah di atas 4700?\n",
        "---"
      ]
    },
    {
      "cell_type": "markdown",
      "metadata": {
        "id": "VvhoyezvISXp"
      },
      "source": [
        "### Langkah-Langkah\n",
        "1. Tentukan hipotesis nol \n",
        "\n",
        "    H0 : µ = 4700\n",
        "2. Tentukan hipotesis alternatif\n",
        "\n",
        "    H1 : µ > 4700\n",
        "    \n",
        "3. Tentukan tingkat signifikan \n",
        "    \n",
        "    alpha = 0.05\n",
        "4. Tentukan uji statistik yang sesuai dan tentukan daerah kritis.\n",
        "   \n",
        "   Uji statistik yang digunakan adalah : Uji parameter populasi pengujian rataan satu sampel one tail test variance known\n",
        "   \n",
        "   Daerah kritis : z > zalpha : z > 1.645\n",
        "\n",
        "5. Hitung nilai uji statistik\n"
      ]
    },
    {
      "cell_type": "code",
      "metadata": {
        "colab": {
          "base_uri": "https://localhost:8080/"
        },
        "id": "1JHdQC3Gp_-u",
        "outputId": "05b01d06-3116-4c66-9092-30a529f78770"
      },
      "source": [
        "mean = 4700\n",
        "rataan = gandum['daerah'].mean()\n",
        "std = gandum['daerah'].std()\n",
        "n = gandum['daerah'].count()\n",
        "z = zscore(rataan, mean, std, n)\n",
        "p = 1 - ztop(z)\n",
        "zalpha = ptoz(1-alpha)\n",
        "\n",
        "print(\"Nilai z : \" +str(z))\n",
        "print(\"p-value : \" + str(p))"
      ],
      "execution_count": 578,
      "outputs": [
        {
          "output_type": "stream",
          "text": [
            "Nilai z : 2.2951538242525173\n",
            "p-value : 0.010862155196799894\n"
          ],
          "name": "stdout"
        }
      ]
    },
    {
      "cell_type": "markdown",
      "metadata": {
        "id": "B2xAirRWaL_c"
      },
      "source": [
        "6. Ambil keputusan"
      ]
    },
    {
      "cell_type": "code",
      "metadata": {
        "colab": {
          "base_uri": "https://localhost:8080/"
        },
        "id": "rpNm4o_ZaLBE",
        "outputId": "352415a7-f828-4973-c2bc-25a6d6d71064"
      },
      "source": [
        "if z > zalpha:\n",
        "  print(\"Tolak null hypothesis\")\n",
        "  print(\"Nilai rata-rata Daerah di atas 4700\")\n",
        "else:\n",
        "  print(\"Terima null hypothesis\")\n",
        "  print(\"Nilai rata-rata Daerah tidak dapat dibilang di atas 4700\")"
      ],
      "execution_count": 579,
      "outputs": [
        {
          "output_type": "stream",
          "text": [
            "Tolak null hypothesis\n",
            "Nilai rata-rata Daerah di atas 4700\n"
          ],
          "name": "stdout"
        }
      ]
    },
    {
      "cell_type": "markdown",
      "metadata": {
        "id": "W-6jGMLLSZKz"
      },
      "source": [
        "#### Boxplot"
      ]
    },
    {
      "cell_type": "code",
      "metadata": {
        "colab": {
          "base_uri": "https://localhost:8080/",
          "height": 265
        },
        "id": "iODlXBtGSl34",
        "outputId": "048a174e-a149-420a-9390-893ce945d9b2"
      },
      "source": [
        "df = pd.DataFrame(data = gandum, columns = ['daerah'])\n",
        "boxplot = df.boxplot(column = ['daerah'])"
      ],
      "execution_count": 580,
      "outputs": [
        {
          "output_type": "display_data",
          "data": {
            "image/png": "[encoded data removed]",
            "text/plain": [
              "<Figure size 432x288 with 1 Axes>"
            ]
          },
          "metadata": {
            "tags": [],
            "needs_background": "light"
          }
        }
      ]
    },
    {
      "cell_type": "markdown",
      "metadata": {
        "id": "6PuLGsurEdvg"
      },
      "source": [
        "B) Nilai Rata-rata Sumbu Utama tidak sama dengan 116?\n",
        "---"
      ]
    },
    {
      "cell_type": "markdown",
      "metadata": {
        "id": "uCQxd6dgbb_9"
      },
      "source": [
        "### Langkah-Langkah\n",
        "1. Tentukan hipotesis nol \n",
        "\n",
        "    H0 : µ = 116\n",
        "2. Tentukan hipotesis alternatif\n",
        "\n",
        "    H1 : µ != 116 (two-tailed test)\n",
        "    \n",
        "3. Tentukan tingkat signifikan \n",
        "    \n",
        "    alpha = 0.05\n",
        "4. Tentukan uji statistik yang sesuai dan tentukan daerah kritis.\n",
        "    \n",
        "    Uji statistik : Uji parameter populasi pengujian rataan satu sampel two tail test variance known\n",
        "\n",
        "    daerah kritis : z < (-zalpha/2) or z > (zalpha/2): z < -1.96 or z > 1.96\n",
        "5. Hitung nilai uji statistik"
      ]
    },
    {
      "cell_type": "code",
      "metadata": {
        "colab": {
          "base_uri": "https://localhost:8080/"
        },
        "id": "O_t8LTmNdR57",
        "outputId": "b672ed8e-f790-447f-8eb2-d5b31333780e"
      },
      "source": [
        "mean = 116\n",
        "rataan = gandum['sumbu utama'].mean()\n",
        "std = gandum['sumbu utama'].std()\n",
        "n = gandum['sumbu utama'].count()\n",
        "z = zscore(rataan, mean, std, n)\n",
        "zalpha = ptoz(1-alpha/2)\n",
        "p = 2*(1-ztop(abs(z)))\n",
        "print(\"Nilai z: \" + str(z))\n",
        "print(\"p-value: \" + str(p))"
      ],
      "execution_count": 581,
      "outputs": [
        {
          "output_type": "stream",
          "text": [
            "Nilai z: 0.055247123267335795\n",
            "p-value: 0.9559415872977244\n"
          ],
          "name": "stdout"
        }
      ]
    },
    {
      "cell_type": "markdown",
      "metadata": {
        "id": "UZvGWrSjoR1m"
      },
      "source": [
        "6. Ambil Keputusan"
      ]
    },
    {
      "cell_type": "code",
      "metadata": {
        "colab": {
          "base_uri": "https://localhost:8080/"
        },
        "id": "bICFeSpFoVvp",
        "outputId": "e1fe859d-c637-4105-9174-dbef126434c5"
      },
      "source": [
        "if z < -zalpha or z > zalpha:\n",
        "  print(\"Null hypothesis ditolak\")\n",
        "  print(\"Rata-rata sumbu utama tidak sama dengan 116\")\n",
        "else:\n",
        "  print(\"Null hypothesis gagal untuk ditolak\")\n",
        "  print(\"Rata-rata sumbu utama sama dengan 116\")"
      ],
      "execution_count": 582,
      "outputs": [
        {
          "output_type": "stream",
          "text": [
            "Null hypothesis gagal untuk ditolak\n",
            "Rata-rata sumbu utama sama dengan 116\n"
          ],
          "name": "stdout"
        }
      ]
    },
    {
      "cell_type": "markdown",
      "metadata": {
        "id": "OJMMDLRtSX6D"
      },
      "source": [
        "#### Boxplot"
      ]
    },
    {
      "cell_type": "code",
      "metadata": {
        "colab": {
          "base_uri": "https://localhost:8080/",
          "height": 265
        },
        "id": "OaI6EV7xSpEo",
        "outputId": "8985b875-1b99-4a57-fb40-86b0dee3a574"
      },
      "source": [
        "df = pd.DataFrame(data = gandum, columns = ['sumbu utama'])\n",
        "boxplot = df.boxplot(column = ['sumbu utama'])"
      ],
      "execution_count": 583,
      "outputs": [
        {
          "output_type": "display_data",
          "data": {
            "image/png": "[encoded data removed]",
            "text/plain": [
              "<Figure size 432x288 with 1 Axes>"
            ]
          },
          "metadata": {
            "tags": [],
            "needs_background": "light"
          }
        }
      ]
    },
    {
      "cell_type": "markdown",
      "metadata": {
        "id": "TY04HSZGLfZf"
      },
      "source": [
        "C) Nilai Rata-rata 20 baris pertama kolom Sumbu Kecil bukan 50?\n",
        "---"
      ]
    },
    {
      "cell_type": "markdown",
      "metadata": {
        "id": "QHzHu86_bkGZ"
      },
      "source": [
        "### Langkah-Langkah\n",
        "1. Tentukan hipotesis nol \n",
        "\n",
        "    H0 : µ = 50\n",
        "2. Tentukan hipotesis alternatif\n",
        "\n",
        "    H1 : µ != 50 (two-tailed test)\n",
        "    \n",
        "3. Tentukan tingkat signifikan \n",
        "    \n",
        "    alpha = 0.05\n",
        "4. Tentukan uji statistik yang sesuai dan tentukan daerah kritis.\n",
        "    \n",
        "    Uji statistik : Uji parameter populasi pengujian rataan satu sampel two tail test variance known\n",
        "\n",
        "    daerah kritis : z < (-zalpha/2) or z > (zalpha/2): z < -1.96 or z > 1.96\n",
        "    \n",
        "5. Hitung nilai uji statistik"
      ]
    },
    {
      "cell_type": "code",
      "metadata": {
        "colab": {
          "base_uri": "https://localhost:8080/"
        },
        "id": "mv2HCVUxoqGd",
        "outputId": "567a1fb1-d3ec-43aa-edb2-9e3c57702cfc"
      },
      "source": [
        "mean = 50\n",
        "sampel = gandum['sumbu kecil'].head(20)\n",
        "rataan = sampel.mean()\n",
        "std = sampel.std()\n",
        "n = sampel.count()\n",
        "z = zscore(rataan, mean, std, n)\n",
        "p = 2*(1-ztop(abs(z)))\n",
        "zalpha = ptoz(1 - alpha/2)\n",
        "print(\"Nilai z: \" + str(z))\n",
        "print(\"p-value : \" + str(p))"
      ],
      "execution_count": 584,
      "outputs": [
        {
          "output_type": "stream",
          "text": [
            "Nilai z: 6.478168916968886\n",
            "p-value : 9.284240043427872e-11\n"
          ],
          "name": "stdout"
        }
      ]
    },
    {
      "cell_type": "markdown",
      "metadata": {
        "id": "KVPCKoWko9CY"
      },
      "source": [
        "6. Ambil Keputusan"
      ]
    },
    {
      "cell_type": "code",
      "metadata": {
        "colab": {
          "base_uri": "https://localhost:8080/"
        },
        "id": "vlKwIc5go7By",
        "outputId": "7987b393-3cb1-4d33-a5d6-3379f45b3c27"
      },
      "source": [
        "if z < -zalpha or z > zalpha:\n",
        "  print(\"Null hypothesis ditolak\")\n",
        "  print(\"Nilai rata-rata 20 baris pertama kolom sumbu kecil bukan 50\")\n",
        "else:\n",
        "  print(\"Null hypothesis diterima\")\n",
        "  print(\"Nilai rata-rata 20 baris pertama kolom sumbu kecil 50\")"
      ],
      "execution_count": 585,
      "outputs": [
        {
          "output_type": "stream",
          "text": [
            "Null hypothesis ditolak\n",
            "Nilai rata-rata 20 baris pertama kolom sumbu kecil bukan 50\n"
          ],
          "name": "stdout"
        }
      ]
    },
    {
      "cell_type": "markdown",
      "metadata": {
        "id": "p-tzEcEXSVrn"
      },
      "source": [
        "#### Boxplot"
      ]
    },
    {
      "cell_type": "code",
      "metadata": {
        "colab": {
          "base_uri": "https://localhost:8080/",
          "height": 265
        },
        "id": "a9XjIXarS_0F",
        "outputId": "e137968a-7be2-424c-e71c-600e283e01c8"
      },
      "source": [
        "df = pd.DataFrame(data = sampel)\n",
        "boxplot = df.boxplot()"
      ],
      "execution_count": 586,
      "outputs": [
        {
          "output_type": "display_data",
          "data": {
            "image/png": "[encoded data removed]",
            "text/plain": [
              "<Figure size 432x288 with 1 Axes>"
            ]
          },
          "metadata": {
            "tags": [],
            "needs_background": "light"
          }
        }
      ]
    },
    {
      "cell_type": "markdown",
      "metadata": {
        "id": "EvmPj8kaLnby"
      },
      "source": [
        "D) Proporsi nilai Diameter yang lebih dari 85, adalah tidak sama dengan 15% ?\n",
        "---"
      ]
    },
    {
      "cell_type": "markdown",
      "metadata": {
        "id": "94QrM3VJhHsg"
      },
      "source": [
        "### Langkah-Langkah\n",
        "1. Tentukan hipotesis nol \n",
        "\n",
        "    H0 : p = 0.15\n",
        "2. Tentukan hipotesis alternatif\n",
        "\n",
        "    H1 : p != 0.15 (two-tailed test)\n",
        "    \n",
        "3. Tentukan tingkat signifikan \n",
        "    \n",
        "    alpha = 0.05\n",
        "    \n",
        "4. Tentukan uji statistik yang sesuai dan tentukan daerah kritis.\n",
        "\n",
        "    Uji statistik : Uji satu parameter populasi  pengujian proporsi satu sampel dengan sample banyak\n",
        "\n",
        "    Daerah kritis : z > zalpha/2 or z < -zalpha/2: z > 1.96 or z < -1.96\n",
        "  \n",
        "5. Hitung nilai statistik"
      ]
    },
    {
      "cell_type": "code",
      "metadata": {
        "colab": {
          "base_uri": "https://localhost:8080/"
        },
        "id": "wYCloa-Ph-ke",
        "outputId": "5acd4dab-9b46-42ba-ede1-a2a135d86a3a"
      },
      "source": [
        "diameter = gandum['diameter'].loc[gandum['diameter'] > 85]\n",
        "p0 = 0.15 \n",
        "q0 = 1 - p0\n",
        "zalpha = ptoz(1 - alpha/2)\n",
        "n = gandum['diameter'].count()\n",
        "x = diameter.count()\n",
        "p1 = x/n\n",
        "\n",
        "z = (p1-p0) * math.sqrt(n)/ math.sqrt(p0*q0)\n",
        "p = 2*(1- ztop(abs(z)))\n",
        "\n",
        "print(\"Nilai z : \" + str(z))\n",
        "print(\"p-value : \" + str(p))"
      ],
      "execution_count": 587,
      "outputs": [
        {
          "output_type": "stream",
          "text": [
            "Nilai z : 2.7553868807746587\n",
            "p-value : 0.005862277168409591\n"
          ],
          "name": "stdout"
        }
      ]
    },
    {
      "cell_type": "markdown",
      "metadata": {
        "id": "EpYlysK8uK4Y"
      },
      "source": [
        "6. Ambil Keputusan"
      ]
    },
    {
      "cell_type": "code",
      "metadata": {
        "colab": {
          "base_uri": "https://localhost:8080/"
        },
        "id": "EBkW64d01Xli",
        "outputId": "3a21efba-3a39-4a37-d865-391e47dad8c6"
      },
      "source": [
        "if z < -zalpha or z > zalpha:\n",
        "  print(\"Null hypothesis ditolak\")\n",
        "  print(\"Proporsi nilai Diameter yang lebih dari 85 tidak sama dengan 15%\")\n",
        "else:\n",
        "  print(\"Null hypothesis diterima\")\n",
        "  print(\"Proporsi nilai diameter yang lebih dari 85 sama dengan 15%\")"
      ],
      "execution_count": 588,
      "outputs": [
        {
          "output_type": "stream",
          "text": [
            "Null hypothesis ditolak\n",
            "Proporsi nilai Diameter yang lebih dari 85 tidak sama dengan 15%\n"
          ],
          "name": "stdout"
        }
      ]
    },
    {
      "cell_type": "markdown",
      "metadata": {
        "id": "le2Wkb77SUaa"
      },
      "source": [
        "#### Boxplot"
      ]
    },
    {
      "cell_type": "code",
      "metadata": {
        "colab": {
          "base_uri": "https://localhost:8080/",
          "height": 269
        },
        "id": "RL0yocd8TiWh",
        "outputId": "150d3143-5281-448a-af00-ed1a0e26619f"
      },
      "source": [
        "df = pd.DataFrame(data = diameter)\n",
        "boxplot = df.boxplot()"
      ],
      "execution_count": 589,
      "outputs": [
        {
          "output_type": "display_data",
          "data": {
            "image/png": "[encoded data removed]",
            "text/plain": [
              "<Figure size 432x288 with 1 Axes>"
            ]
          },
          "metadata": {
            "tags": [],
            "needs_background": "light"
          }
        }
      ]
    },
    {
      "cell_type": "markdown",
      "metadata": {
        "id": "5G-082o6LrGB"
      },
      "source": [
        "E) Proporsi nilai Keliling yang kurang dari 100, adalah kurang dari 5% ?\n",
        "---"
      ]
    },
    {
      "cell_type": "markdown",
      "metadata": {
        "id": "CxG6VRvxhV5P"
      },
      "source": [
        "### Langkah-Langkah\n",
        "1. Tentukan hipotesis nol \n",
        "\n",
        "    H0 : p = 0.05\n",
        "2. Tentukan hipotesis alternatif\n",
        "\n",
        "    H1 : p < 0.05 (one-tailed test)\n",
        "    \n",
        "3. Tentukan tingkat signifikan \n",
        "    \n",
        "    alpha = 0.05\n",
        "    \n",
        "4. Tentukan uji statistik yang sesuai dan tentukan daerah kritis.\n",
        "\n",
        "    Uji statistik : Uji satu parameter populasi pengujian proporsi satu sampel dengan sample banyak one tailed test\n",
        "\n",
        "    Daerah kritis : z < -zalpha: z < -1.645\n",
        "\n",
        "5. Hitung nilai uji statistik"
      ]
    },
    {
      "cell_type": "code",
      "metadata": {
        "colab": {
          "base_uri": "https://localhost:8080/"
        },
        "id": "kSRDIfXUjMo5",
        "outputId": "1c56b1d4-a353-482e-8ced-6a4420ddf319"
      },
      "source": [
        "keliling = gandum['keliling'].loc[gandum['keliling'] < 100]\n",
        "p0 = 0.05 \n",
        "q0 = 1 - p0\n",
        "zalpha = ptoz(1 - alpha)\n",
        "n = gandum['keliling'].count()\n",
        "x = keliling.count()\n",
        "p1 = x/n\n",
        "z = (p1-p0) * math.sqrt(n)/ math.sqrt(p0*q0)\n",
        "p = ztop(z)\n",
        "print(\"Nilai z : \" + str(z))\n",
        "print(\"p-value : \" + str(p) )"
      ],
      "execution_count": 590,
      "outputs": [
        {
          "output_type": "stream",
          "text": [
            "Nilai z : -5.129891760425771\n",
            "p-value : 1.4495441414387716e-07\n"
          ],
          "name": "stdout"
        }
      ]
    },
    {
      "cell_type": "markdown",
      "metadata": {
        "id": "tQLk3rck14xL"
      },
      "source": [
        "6. Ambil Keputusan"
      ]
    },
    {
      "cell_type": "code",
      "metadata": {
        "colab": {
          "base_uri": "https://localhost:8080/"
        },
        "id": "0NoLbbzO1_CI",
        "outputId": "4f7824a6-b2dd-4ebd-8385-f56be4b2b92e"
      },
      "source": [
        "if z < -zalpha:\n",
        "  print(\"Null hypothesis ditolak\")\n",
        "  print(\"Proporsi nilai Keliling yang kurang dari 100, adalah kurang dari 5%\")\n",
        "else:\n",
        "  print(\"Null hypothesis diterima\")\n",
        "  print(\"Proporsi nilai Keliling yang kurang dari 100 tidak kurang dari 5%\")"
      ],
      "execution_count": 591,
      "outputs": [
        {
          "output_type": "stream",
          "text": [
            "Null hypothesis ditolak\n",
            "Proporsi nilai Keliling yang kurang dari 100, adalah kurang dari 5%\n"
          ],
          "name": "stdout"
        }
      ]
    },
    {
      "cell_type": "markdown",
      "metadata": {
        "id": "QoCpz3RRSNMe"
      },
      "source": [
        "#### Boxplot"
      ]
    },
    {
      "cell_type": "code",
      "metadata": {
        "colab": {
          "base_uri": "https://localhost:8080/",
          "height": 265
        },
        "id": "bsimYCcRTvJb",
        "outputId": "fd3eb966-ac52-475c-c72f-b15b5ae60473"
      },
      "source": [
        "df = pd.DataFrame(data = keliling)\n",
        "boxplot = df.boxplot()"
      ],
      "execution_count": 592,
      "outputs": [
        {
          "output_type": "display_data",
          "data": {
            "image/png": "[encoded data removed]",
            "text/plain": [
              "<Figure size 432x288 with 1 Axes>"
            ]
          },
          "metadata": {
            "tags": [],
            "needs_background": "light"
          }
        }
      ]
    },
    {
      "cell_type": "markdown",
      "metadata": {
        "id": "AlSnMJ_RSfNu"
      },
      "source": [
        "# **Test Hipotesis 2 Sampel**"
      ]
    },
    {
      "cell_type": "markdown",
      "metadata": {
        "id": "AclOdcQpVCi9"
      },
      "source": [
        "A) Data kolom AreaBulatan dibagi 2 sama rata: bagian awal dan bagian akhir kolom. Benarkah rata-rata kedua bagian tersebut sama?\n",
        "---"
      ]
    },
    {
      "cell_type": "markdown",
      "metadata": {
        "id": "abTLOiBPJO_O"
      },
      "source": [
        "### Langkah-Langkah\n",
        "1. Tentukan hipotesis nol \n",
        "\n",
        "    H0 : µ1 - µ2 = 0\n",
        "2. Tentukan hipotesis alternatif\n",
        "\n",
        "    H1 : µ1 - µ2 != 0 (two-tailed)\n",
        "    \n",
        "3. Tentukan tingkat signifikan \n",
        "    \n",
        "    alpha = 0.05\n",
        "    \n",
        "4. Tentukan uji statistik yang sesuai dan tentukan daerah kritis.\n",
        "\n",
        "    Uji statistik : two sample two tailed mean test known std\n",
        "\n",
        "    daerah kritis : z < -zalpha/2 or z > zalpha/2: z < -1.96 or z > 1.96\n",
        "\n",
        "5. Hitung nilai uji statistik"
      ]
    },
    {
      "cell_type": "code",
      "metadata": {
        "colab": {
          "base_uri": "https://localhost:8080/"
        },
        "id": "q4_-mdabOnQC",
        "outputId": "0f188135-4682-4092-f412-7d1b79b4a540"
      },
      "source": [
        "areaBulat = gandum['area bulatan']\n",
        "\n",
        "d0 = 0\n",
        "\n",
        "zalpha = ptoz(1 - alpha/2)\n",
        "bagian1 = areaBulat.head(areaBulat.size // 2)\n",
        "bagian2 = areaBulat.tail(areaBulat.size // 2)\n",
        "\n",
        "mean1 = bagian1.mean()\n",
        "mean2 = bagian2.mean()\n",
        "\n",
        "var1 = bagian1.var()\n",
        "var2 = bagian2.var()\n",
        "z = ztwotestmean(d0, mean1, mean2, var1, var2, bagian1.size, bagian2.size)\n",
        "p = 2*(1-ztop(abs(z)))\n",
        "print(\"Nilai z : \" + str(z))\n",
        "print(\"p-value : \" + str(p))"
      ],
      "execution_count": 593,
      "outputs": [
        {
          "output_type": "stream",
          "text": [
            "Nilai z : 17.013036648485464\n",
            "p-value : 0.0\n"
          ],
          "name": "stdout"
        }
      ]
    },
    {
      "cell_type": "markdown",
      "metadata": {
        "id": "RnMJfStq6wPb"
      },
      "source": [
        "6. Ambil Keputusan"
      ]
    },
    {
      "cell_type": "code",
      "metadata": {
        "colab": {
          "base_uri": "https://localhost:8080/"
        },
        "id": "x7cJho8v7JWG",
        "outputId": "e5adf09e-22de-4832-98e1-3917404e2691"
      },
      "source": [
        "if z < -zalpha or z > zalpha:\n",
        "  print(\"Null hypothesis ditolak\")\n",
        "  print(\"Rata-rata kedua bagian tidak sama\")\n",
        "else:\n",
        "  print(\"Null hypothesis diterima\")\n",
        "  print(\"Rata-rata kedua bagian sama\")"
      ],
      "execution_count": 594,
      "outputs": [
        {
          "output_type": "stream",
          "text": [
            "Null hypothesis ditolak\n",
            "Rata-rata kedua bagian tidak sama\n"
          ],
          "name": "stdout"
        }
      ]
    },
    {
      "cell_type": "markdown",
      "metadata": {
        "id": "slCU8OAoP-lV"
      },
      "source": [
        "#### Boxplot Bagian Awal\n"
      ]
    },
    {
      "cell_type": "code",
      "metadata": {
        "colab": {
          "base_uri": "https://localhost:8080/",
          "height": 265
        },
        "id": "qLcGvggEP1id",
        "outputId": "fa29391d-77f3-49d1-bdac-9ac11aac3f60"
      },
      "source": [
        "df = pd.DataFrame(data = bagian1)\n",
        "boxplot = df.boxplot()"
      ],
      "execution_count": 595,
      "outputs": [
        {
          "output_type": "display_data",
          "data": {
            "image/png": "[encoded data removed]",
            "text/plain": [
              "<Figure size 432x288 with 1 Axes>"
            ]
          },
          "metadata": {
            "tags": [],
            "needs_background": "light"
          }
        }
      ]
    },
    {
      "cell_type": "markdown",
      "metadata": {
        "id": "Yn4--DE7QBrS"
      },
      "source": [
        "#### Boxplot Bagian Akhir"
      ]
    },
    {
      "cell_type": "code",
      "metadata": {
        "colab": {
          "base_uri": "https://localhost:8080/",
          "height": 265
        },
        "id": "dx3MfesPP70V",
        "outputId": "56144a41-1e9a-4bc5-e51e-5c64c290e53b"
      },
      "source": [
        "df = pd.DataFrame(data = bagian2)\n",
        "boxplot = df.boxplot()"
      ],
      "execution_count": 596,
      "outputs": [
        {
          "output_type": "display_data",
          "data": {
            "image/png": "[encoded data removed]",
            "text/plain": [
              "<Figure size 432x288 with 1 Axes>"
            ]
          },
          "metadata": {
            "tags": [],
            "needs_background": "light"
          }
        }
      ]
    },
    {
      "cell_type": "markdown",
      "metadata": {
        "id": "IehQVOUVVK3t"
      },
      "source": [
        "B) Data kolom Kadar Air dibagi 2 sama rata: bagian awal dan bagian akhir kolom. Benarkah rata-rata bagian awal lebih besar dari pada bagian akhir sebesar 0.2?\n",
        "---"
      ]
    },
    {
      "cell_type": "markdown",
      "metadata": {
        "id": "xF5OAEpfKUT7"
      },
      "source": [
        "### Langkah-Langkah\n",
        "1. Tentukan hipotesis nol \n",
        "\n",
        "    H0 : µ1 - µ2 = 0.2\n",
        "2. Tentukan hipotesis alternatif\n",
        "\n",
        "    H1 : µ1 - µ2 != 0.2 (two-tailed)\n",
        "    \n",
        "3. Tentukan tingkat signifikan \n",
        "    \n",
        "    alpha = 0.05\n",
        "    \n",
        "4. Tentukan uji statistik yang sesuai dan tentukan daerah kritis.\n",
        "\n",
        "    Uji statistik : two sample two tailed mean test known std\n",
        "\n",
        "    Daerah kritis : z < -zalpha/2 or z > zalpha/2: z < -1.96 or z > 1.96\n",
        "\n",
        "5. Hitung nilai uji statistik"
      ]
    },
    {
      "cell_type": "code",
      "metadata": {
        "id": "c2UxraJlPsaP",
        "colab": {
          "base_uri": "https://localhost:8080/"
        },
        "outputId": "696de8c6-db8c-4797-9875-924704625030"
      },
      "source": [
        "kadarAir = gandum['kadar air']\n",
        "\n",
        "d0 = 0.2\n",
        "\n",
        "zalpha = ptoz(1-alpha/2)\n",
        "bagian1 = kadarAir.head(kadarAir.size // 2)\n",
        "bagian2 = kadarAir.tail(kadarAir.size // 2)\n",
        "\n",
        "mean1 = bagian1.mean()\n",
        "mean2 = bagian2.mean()\n",
        "\n",
        "var1 = bagian1.var()\n",
        "var2 = bagian2.var()\n",
        "\n",
        "z = ztwotestmean(d0, mean1, mean2, var1, var2, bagian1.size, bagian2.size)\n",
        "p = 2*(1-ztop(abs(z)))\n",
        "print(\"Nilai z : \" + str(z))\n",
        "print(\"p-value : \" + str(p))"
      ],
      "execution_count": 597,
      "outputs": [
        {
          "output_type": "stream",
          "text": [
            "Nilai z : -26.903444249744958\n",
            "p-value : 0.0\n"
          ],
          "name": "stdout"
        }
      ]
    },
    {
      "cell_type": "markdown",
      "metadata": {
        "id": "zm0YHtV68cVJ"
      },
      "source": [
        "6. Ambil Keputusan"
      ]
    },
    {
      "cell_type": "code",
      "metadata": {
        "colab": {
          "base_uri": "https://localhost:8080/"
        },
        "id": "Cz2nt7C17tEE",
        "outputId": "aedec110-7488-4308-8ddc-e96ffc76a68b"
      },
      "source": [
        "if z < -zalpha or z > zalpha:\n",
        "  print(\"Null hypothesis ditolak\")\n",
        "  print(\"Rata-rata bagian awal tidak lebih besar dari pada bagian akhir sebesar 0.2\")\n",
        "else:\n",
        "  print(\"Null hypothesis diterima\")\n",
        "  print(\"Rata-rata bagian awal lebih besar dari pada bagian akhir sebesar 0.2\")"
      ],
      "execution_count": 598,
      "outputs": [
        {
          "output_type": "stream",
          "text": [
            "Null hypothesis ditolak\n",
            "Rata-rata bagian awal tidak lebih besar dari pada bagian akhir sebesar 0.2\n"
          ],
          "name": "stdout"
        }
      ]
    },
    {
      "cell_type": "markdown",
      "metadata": {
        "id": "8vqjzbt8QWLs"
      },
      "source": [
        "#### Boxplot Bagian Awal\n",
        "\n"
      ]
    },
    {
      "cell_type": "code",
      "metadata": {
        "colab": {
          "base_uri": "https://localhost:8080/",
          "height": 269
        },
        "id": "WFQlAT0BQQiu",
        "outputId": "e3e9efcd-20d6-4fc7-af31-f7c56ca85f20"
      },
      "source": [
        "df = pd.DataFrame(data = bagian1)\n",
        "boxplot = df.boxplot()"
      ],
      "execution_count": 599,
      "outputs": [
        {
          "output_type": "display_data",
          "data": {
            "image/png": "[encoded data removed]",
            "text/plain": [
              "<Figure size 432x288 with 1 Axes>"
            ]
          },
          "metadata": {
            "tags": [],
            "needs_background": "light"
          }
        }
      ]
    },
    {
      "cell_type": "markdown",
      "metadata": {
        "id": "JL6D_lfAQYIb"
      },
      "source": [
        "#### Boxplot Bagian Akhir\n",
        "\n"
      ]
    },
    {
      "cell_type": "code",
      "metadata": {
        "colab": {
          "base_uri": "https://localhost:8080/",
          "height": 269
        },
        "id": "uaVKVlmrQaQv",
        "outputId": "5fbe4f1a-f73a-48b5-d737-f2c824f444de"
      },
      "source": [
        "df = pd.DataFrame(data = bagian2)\n",
        "boxplot = df.boxplot()"
      ],
      "execution_count": 600,
      "outputs": [
        {
          "output_type": "display_data",
          "data": {
            "image/png": "[encoded data removed]",
            "text/plain": [
              "<Figure size 432x288 with 1 Axes>"
            ]
          },
          "metadata": {
            "tags": [],
            "needs_background": "light"
          }
        }
      ]
    },
    {
      "cell_type": "markdown",
      "metadata": {
        "id": "Fec1Qrm7VL_h"
      },
      "source": [
        "C) Rata-rata 20 baris pertama kolom Bulatan sama dengan 20 baris terakhirnya?\n",
        "---"
      ]
    },
    {
      "cell_type": "markdown",
      "metadata": {
        "id": "caxJacEOLlBH"
      },
      "source": [
        "### Langkah-Langkah\n",
        "1. Tentukan hipotesis nol \n",
        "\n",
        "    H0 : µ1 - µ2 = 0\n",
        "2. Tentukan hipotesis alternatif\n",
        "\n",
        "    H1 : µ1 - µ2 != 0 (two-tailed)\n",
        "    \n",
        "3. Tentukan tingkat signifikan \n",
        "    \n",
        "    alpha = 0.05\n",
        "    \n",
        "4. Tentukan uji statistik yang sesuai dan tentukan daerah kritis.\n",
        "\n",
        "    Uji statistik : two sample two tailed mean test known std\n",
        "\n",
        "    Daerah kritis : z < -zalpha atau z > zalpha: z < -1.96 or z > 1.96\n",
        "\n",
        "5. Hitung nilai uji statistik"
      ]
    },
    {
      "cell_type": "code",
      "metadata": {
        "colab": {
          "base_uri": "https://localhost:8080/"
        },
        "id": "HkkhKX05P1jm",
        "outputId": "242d909a-0e9f-44e8-91ac-2066f77b78b7"
      },
      "source": [
        "bulatan = gandum['bulatan']\n",
        "\n",
        "bagian1 = bulatan.head(20)\n",
        "bagian2 = bulatan.tail(20)\n",
        "\n",
        "mean1 = bagian1.mean()\n",
        "mean2 = bagian2.mean()\n",
        "\n",
        "var1 = bagian1.var()\n",
        "var2 = bagian2.var()\n",
        "\n",
        "d0 = 0\n",
        "\n",
        "zalpha = ptoz(1 - alpha/2)\n",
        "z = ztwotestmean(d0, mean1, mean2, var1, var2, bagian1.size, bagian2.size)\n",
        "p = 2*(1 - ztop(abs(z)))\n",
        "print(\"Nilai z : \" + str(z))\n",
        "print(\"p-value : \" + str(p))"
      ],
      "execution_count": 601,
      "outputs": [
        {
          "output_type": "stream",
          "text": [
            "Nilai z : -3.3792268633124025\n",
            "p-value : 0.0007268999745855265\n"
          ],
          "name": "stdout"
        }
      ]
    },
    {
      "cell_type": "markdown",
      "metadata": {
        "id": "9bgcP6pC9IQj"
      },
      "source": [
        "6. Ambil keputusan"
      ]
    },
    {
      "cell_type": "code",
      "metadata": {
        "colab": {
          "base_uri": "https://localhost:8080/"
        },
        "id": "SsBXmZUQ9Gi9",
        "outputId": "5b8d4f78-48ce-4bea-a568-3950acd5c68d"
      },
      "source": [
        "if z < -zalpha or z > zalpha:\n",
        "  print(\"Null hypothesis ditolak\")\n",
        "  print(\"Rata-rata 20 baris pertama kolom bulatan tidak sama dengan 20 baris terakhirnya\")\n",
        "else:\n",
        "  print(\"Null hypothesis diterima\")\n",
        "  print(\"Rata-rata 20 baris pertama kolom bulatan sama dengan 20 baris terakhirnya\")"
      ],
      "execution_count": 602,
      "outputs": [
        {
          "output_type": "stream",
          "text": [
            "Null hypothesis ditolak\n",
            "Rata-rata 20 baris pertama kolom bulatan tidak sama dengan 20 baris terakhirnya\n"
          ],
          "name": "stdout"
        }
      ]
    },
    {
      "cell_type": "markdown",
      "metadata": {
        "id": "Y2HFr6n5QiIq"
      },
      "source": [
        "#### Boxplot 20 Baris Pertama\n",
        "\n"
      ]
    },
    {
      "cell_type": "code",
      "metadata": {
        "colab": {
          "base_uri": "https://localhost:8080/",
          "height": 265
        },
        "id": "NZ2N5jnbQlgL",
        "outputId": "37c71c22-842e-4d51-dc04-2648afe5860e"
      },
      "source": [
        "df = pd.DataFrame(data = bagian1)\n",
        "boxplot = df.boxplot()"
      ],
      "execution_count": 603,
      "outputs": [
        {
          "output_type": "display_data",
          "data": {
            "image/png": "[encoded data removed]",
            "text/plain": [
              "<Figure size 432x288 with 1 Axes>"
            ]
          },
          "metadata": {
            "tags": [],
            "needs_background": "light"
          }
        }
      ]
    },
    {
      "cell_type": "markdown",
      "metadata": {
        "id": "FU_i24KxQ4ve"
      },
      "source": [
        "#### Boxplot 20 Baris Terakhir\n",
        "\n"
      ]
    },
    {
      "cell_type": "code",
      "metadata": {
        "colab": {
          "base_uri": "https://localhost:8080/",
          "height": 265
        },
        "id": "WQKDNLFAQogD",
        "outputId": "8150ff86-ea76-45f7-f09f-12317d8820ef"
      },
      "source": [
        "df = pd.DataFrame(data = bagian2)\n",
        "boxplot = df.boxplot()"
      ],
      "execution_count": 604,
      "outputs": [
        {
          "output_type": "display_data",
          "data": {
            "image/png": "[encoded data removed]",
            "text/plain": [
              "<Figure size 432x288 with 1 Axes>"
            ]
          },
          "metadata": {
            "tags": [],
            "needs_background": "light"
          }
        }
      ]
    },
    {
      "cell_type": "markdown",
      "metadata": {
        "id": "9TBXP-o2VLqq"
      },
      "source": [
        "D) Proporsi nilai bagian awal Ransum yang lebih dari 2, adalah lebih besar daripada, proporsi nilai yang sama di bagian akhir Ransum?\n",
        "---"
      ]
    },
    {
      "cell_type": "markdown",
      "metadata": {
        "id": "f1hJlOtGLqXM"
      },
      "source": [
        "### Langkah-Langkah\n",
        "1. Tentukan hipotesis nol \n",
        "\n",
        "    H0 : p1 - p2 = 0 \n",
        "2. Tentukan hipotesis alternatif\n",
        "\n",
        "    H1 : p1 - p2 > 0 (one-tailed)\n",
        "    \n",
        "3. Tentukan tingkat signifikan \n",
        "    \n",
        "    alpha = 0.05\n",
        "    \n",
        "4. Tentukan uji statistik yang sesuai dan tentukan daerah kritis.\n",
        "\n",
        "    Uji statistik : Uji statistik satu parameter populasi pengujian proporsi dua sampel one-tailed tes normal, z\n",
        "\n",
        "    Daerah kritis : z > zalpha: z > 1.645\n",
        "    \n",
        "5. Hitung nilai uji statistik"
      ]
    },
    {
      "cell_type": "code",
      "metadata": {
        "colab": {
          "base_uri": "https://localhost:8080/"
        },
        "id": "2rYi-fLDQqLu",
        "outputId": "a7d98dc7-c857-4628-83ca-51b058d0564f"
      },
      "source": [
        "ransum = gandum['ransum']\n",
        "\n",
        "n1 = ransum.head(ransum.size // 2)\n",
        "n2 = ransum.tail(ransum.size // 2)\n",
        "\n",
        "\n",
        "x1 = n1.loc[n1 > 2]\n",
        "x2 = n2.loc[n2 > 2]\n",
        "\n",
        "p1 = x1.size/n1.size\n",
        "p2 = x2.size/n2.size\n",
        "\n",
        "p = (x1.size + x2.size)/(n1.size + n2.size)\n",
        "q = 1 - p\n",
        "\n",
        "zalpha = ptoz(1- alpha)\n",
        "\n",
        "pembilang = p1 - p2\n",
        "penyebut = (p*q/n1.size) + (p*q/n2.size)\n",
        "z = pembilang/math.sqrt(penyebut)\n",
        "p = 1-ztop(z)\n",
        "print(\"Nilai z : \" + str(z))\n",
        "print(\"p-value : \" + str(p))"
      ],
      "execution_count": 605,
      "outputs": [
        {
          "output_type": "stream",
          "text": [
            "Nilai z : 13.397486455610238\n",
            "p-value : 0.0\n"
          ],
          "name": "stdout"
        }
      ]
    },
    {
      "cell_type": "markdown",
      "metadata": {
        "id": "zzBKmGrQA2Qq"
      },
      "source": [
        "6. Ambil Keputusan"
      ]
    },
    {
      "cell_type": "code",
      "metadata": {
        "colab": {
          "base_uri": "https://localhost:8080/"
        },
        "id": "KHtz4xYDAn3i",
        "outputId": "3c8d3480-d2b0-49bb-8a5d-d33b0887de75"
      },
      "source": [
        "if z > zalpha:\n",
        "  print(\"Null hypothesis ditolak\")\n",
        "  print(\"Proporsi nilai bagian awal Ransum yang lebih dari 2 lebih besar dari proporsi nilai yang sama di bagian akhir Ransum\")\n",
        "else:\n",
        "  print(\"Null hypothesis diterima\")\n",
        "  print(\"Proporsi nilai bagian awal Ransum yang lebih dari 2 sama dengan proporsi nilai yang sama di bagian akhir Ransum\")"
      ],
      "execution_count": 606,
      "outputs": [
        {
          "output_type": "stream",
          "text": [
            "Null hypothesis ditolak\n",
            "Proporsi nilai bagian awal Ransum yang lebih dari 2 lebih besar dari proporsi nilai yang sama di bagian akhir Ransum\n"
          ],
          "name": "stdout"
        }
      ]
    },
    {
      "cell_type": "markdown",
      "metadata": {
        "id": "WAiLejrVRBsW"
      },
      "source": [
        "#### Boxplot Bagian Awal\n",
        "\n"
      ]
    },
    {
      "cell_type": "code",
      "metadata": {
        "colab": {
          "base_uri": "https://localhost:8080/",
          "height": 265
        },
        "id": "79Btpt9pREST",
        "outputId": "708e47e6-2f01-47fe-e61d-0504f4369e3d"
      },
      "source": [
        "df = pd.DataFrame(data = n1)\n",
        "boxplot = df.boxplot()"
      ],
      "execution_count": 607,
      "outputs": [
        {
          "output_type": "display_data",
          "data": {
            "image/png": "[encoded data removed]",
            "text/plain": [
              "<Figure size 432x288 with 1 Axes>"
            ]
          },
          "metadata": {
            "tags": [],
            "needs_background": "light"
          }
        }
      ]
    },
    {
      "cell_type": "markdown",
      "metadata": {
        "id": "6TS3ZLzSRL-e"
      },
      "source": [
        "#### Boxplot Bagian Akhir\n",
        "\n"
      ]
    },
    {
      "cell_type": "code",
      "metadata": {
        "colab": {
          "base_uri": "https://localhost:8080/",
          "height": 265
        },
        "id": "zFrUQmXiROX8",
        "outputId": "28f55b69-9cc8-4dd4-a85f-3c27c58ec60c"
      },
      "source": [
        "df = pd.DataFrame(data = n2)\n",
        "boxplot = df.boxplot()"
      ],
      "execution_count": 608,
      "outputs": [
        {
          "output_type": "display_data",
          "data": {
            "image/png": "[encoded data removed]",
            "text/plain": [
              "<Figure size 432x288 with 1 Axes>"
            ]
          },
          "metadata": {
            "tags": [],
            "needs_background": "light"
          }
        }
      ]
    },
    {
      "cell_type": "markdown",
      "metadata": {
        "id": "5KMYFFf_VLSt"
      },
      "source": [
        "E) Bagian awal kolom Diameter memiliki variansi yang sama dengan bagian akhirnya?\n",
        "---"
      ]
    },
    {
      "cell_type": "markdown",
      "metadata": {
        "id": "FRvKDSnlL3p9"
      },
      "source": [
        "### Langkah-Langkah\n",
        "1. Tentukan hipotesis nol \n",
        "\n",
        "    H0 : var1 - var2 = 0\n",
        "2. Tentukan hipotesis alternatif\n",
        "\n",
        "    H1 : var1 - var2 != 0 (two-tailed)\n",
        "    \n",
        "3. Tentukan tingkat signifikan \n",
        "    \n",
        "    alpha = 0.05\n",
        "    \n",
        "4. Tentukan uji statistik yang sesuai dan tentukan daerah kritis.\n",
        "\n",
        "    Uji statistik : distribusi F\n",
        "\n",
        "    Daerah kritis : f < (1-alpha/2)f(v1,v2) or f > falpha/2(v1,v2): f < 0.78 or f > 1.28\n",
        "5. Hitung nilai uji statistik"
      ]
    },
    {
      "cell_type": "code",
      "metadata": {
        "colab": {
          "base_uri": "https://localhost:8080/"
        },
        "id": "xwL0FgK7RL9q",
        "outputId": "a81716da-8fdf-4c8a-e6eb-f9acd8437c25"
      },
      "source": [
        "diameter = gandum['diameter']\n",
        "awal = diameter.head(diameter.size // 2)\n",
        "akhir = diameter.tail(diameter.size // 2)\n",
        "awalvar = awal.var()\n",
        "akhirvar = akhir.var()\n",
        "#f  = variansi besar/variansi kecil\n",
        "if awalvar > akhirvar:\n",
        "  f = awalvar/akhirvar\n",
        "else:\n",
        "  f = akhirvar/awalvar\n",
        "f1 = s.f.ppf(q=1 - alpha/2, dfn=awal.size-1, dfd=akhir.size-1)\n",
        "f2 = 1 / (s.f.ppf(q=1 - alpha/2, dfn=akhir.size-1, dfd=awal.size-1))\n",
        "p = 2*(1-s.f.cdf(f, akhir.size-1, awal.size-1)) #find p-value of F test statistic \n",
        "print(\"Nilai f : \" + str(f))\n",
        "print(\"p-value : \" + str(p))"
      ],
      "execution_count": 609,
      "outputs": [
        {
          "output_type": "stream",
          "text": [
            "Nilai f : 1.0838780220421882\n",
            "p-value : 0.5255791840378787\n"
          ],
          "name": "stdout"
        }
      ]
    },
    {
      "cell_type": "markdown",
      "metadata": {
        "id": "VJGPgom_DWMV"
      },
      "source": [
        "6. Ambil Keputusan"
      ]
    },
    {
      "cell_type": "code",
      "metadata": {
        "colab": {
          "base_uri": "https://localhost:8080/"
        },
        "id": "zvcQFbh1F2qk",
        "outputId": "5130d625-62b0-4c21-8828-f5c371ab38a4"
      },
      "source": [
        "if(f > f1 or f < f2):\n",
        "  print(\"Null hypothesis ditolak\")\n",
        "  print(\"Bagian awal kolom Diameter tidak memiliki variansi yang sama dengan bagian akhirnya\")\n",
        "else:\n",
        "  print(\"Null hypothesis gagal ditolak\")\n",
        "  print(\"Tidak cukup bukti untuk mengambil kesimpulan bahwa variansi berbeda\")"
      ],
      "execution_count": 610,
      "outputs": [
        {
          "output_type": "stream",
          "text": [
            "Null hypothesis gagal ditolak\n",
            "Tidak cukup bukti untuk mengambil kesimpulan bahwa variansi berbeda\n"
          ],
          "name": "stdout"
        }
      ]
    },
    {
      "cell_type": "markdown",
      "metadata": {
        "id": "EWC6-PRDRVo9"
      },
      "source": [
        "#### Boxplot Bagian Awal\n",
        "\n"
      ]
    },
    {
      "cell_type": "code",
      "metadata": {
        "colab": {
          "base_uri": "https://localhost:8080/",
          "height": 265
        },
        "id": "_8mw93hzRTLR",
        "outputId": "bb71a520-e6c5-4784-9121-198c9dc27eb3"
      },
      "source": [
        "df = pd.DataFrame(data = awal)\n",
        "boxplot = df.boxplot()"
      ],
      "execution_count": 611,
      "outputs": [
        {
          "output_type": "display_data",
          "data": {
            "image/png": "[encoded data removed]",
            "text/plain": [
              "<Figure size 432x288 with 1 Axes>"
            ]
          },
          "metadata": {
            "tags": [],
            "needs_background": "light"
          }
        }
      ]
    },
    {
      "cell_type": "markdown",
      "metadata": {
        "id": "MtCS6WULRXxu"
      },
      "source": [
        "#### Boxplot Bagian Akhir\n"
      ]
    },
    {
      "cell_type": "code",
      "metadata": {
        "colab": {
          "base_uri": "https://localhost:8080/",
          "height": 265
        },
        "id": "hy3tSTjdRaae",
        "outputId": "9559c042-aa6f-4b78-ab96-149d208a831e"
      },
      "source": [
        "df = pd.DataFrame(data = akhir)\n",
        "boxplot = df.boxplot()"
      ],
      "execution_count": 612,
      "outputs": [
        {
          "output_type": "display_data",
          "data": {
            "image/png": "[encoded data removed]",
            "text/plain": [
              "<Figure size 432x288 with 1 Axes>"
            ]
          },
          "metadata": {
            "tags": [],
            "needs_background": "light"
          }
        }
      ]
    },
    {
      "cell_type": "markdown",
      "metadata": {
        "id": "cPp7yWJ5SkAi"
      },
      "source": [
        "# **Test Korelasi**"
      ]
    },
    {
      "cell_type": "markdown",
      "metadata": {
        "id": "r__2u-dWSvMh"
      },
      "source": [
        "Daerah dengan Kelas\n",
        "---"
      ]
    },
    {
      "cell_type": "code",
      "metadata": {
        "colab": {
          "base_uri": "https://localhost:8080/",
          "height": 296
        },
        "id": "t-cKhAchSucH",
        "outputId": "040fa5a5-1ca5-400e-9471-c1e3eefeaba4"
      },
      "source": [
        "g.plot(kind='scatter', x='daerah', y='kelas')\n",
        "a = g['daerah']\n",
        "b = g['kelas']\n",
        "print(\"Nilai korelasi antara daerah dan kelas: \" + str (a.corr(b)))"
      ],
      "execution_count": 613,
      "outputs": [
        {
          "output_type": "stream",
          "text": [
            "Nilai korelasi antara daerah dan kelas: -0.6027466517416661\n"
          ],
          "name": "stdout"
        },
        {
          "output_type": "display_data",
          "data": {
            "image/png": "[encoded data removed]",
            "text/plain": [
              "<Figure size 432x288 with 1 Axes>"
            ]
          },
          "metadata": {
            "tags": [],
            "needs_background": "light"
          }
        }
      ]
    },
    {
      "cell_type": "markdown",
      "metadata": {
        "id": "eniozJpWWK3O"
      },
      "source": [
        "### Kesimpulan :\n",
        "Daerah dan kelas memiliki korelasi yang cukup baik dengan nilai -0.6027. Karena nilai korelasi negatif maka kedua kolom cenderung berbanding terbalik."
      ]
    },
    {
      "cell_type": "markdown",
      "metadata": {
        "id": "-s_Is_WdSy7h"
      },
      "source": [
        "Sumbu Utama dengan Kelas\n",
        "---"
      ]
    },
    {
      "cell_type": "code",
      "metadata": {
        "colab": {
          "base_uri": "https://localhost:8080/",
          "height": 296
        },
        "id": "09XggSlmUQ0d",
        "outputId": "19933f1a-d507-4151-b032-1114dcd1b0ac"
      },
      "source": [
        "g.plot(kind='scatter', x='sumbu utama', y='kelas')\n",
        "a = g['sumbu utama']\n",
        "b = g['kelas']\n",
        "print(\"Nilai korelasi antara sumbu utama dan kelas: \" + str (a.corr(b)))"
      ],
      "execution_count": 614,
      "outputs": [
        {
          "output_type": "stream",
          "text": [
            "Nilai korelasi antara sumbu utama dan kelas: -0.7130906104204592\n"
          ],
          "name": "stdout"
        },
        {
          "output_type": "display_data",
          "data": {
            "image/png": "[encoded data removed]",
            "text/plain": [
              "<Figure size 432x288 with 1 Axes>"
            ]
          },
          "metadata": {
            "tags": [],
            "needs_background": "light"
          }
        }
      ]
    },
    {
      "cell_type": "markdown",
      "metadata": {
        "id": "JVH8uIueWjf-"
      },
      "source": [
        "### Kesimpulan :\n",
        "Sumbu utama dan kelas memiliki korelasi yang cukup baik dengan nilai -0.71309. Karena nilai korelasi negatif maka kedua kolom cenderung berbanding terbalik."
      ]
    },
    {
      "cell_type": "markdown",
      "metadata": {
        "id": "5ExrXb48Uaht"
      },
      "source": [
        "Sumbu Kecil dengan Kelas\n",
        "---"
      ]
    },
    {
      "cell_type": "code",
      "metadata": {
        "colab": {
          "base_uri": "https://localhost:8080/",
          "height": 296
        },
        "id": "bthnxAodUdJT",
        "outputId": "bfe2def7-83a0-4428-ac47-2195e193a981"
      },
      "source": [
        "g.plot(kind='scatter', x='sumbu kecil', y='kelas')\n",
        "a = g['sumbu kecil']\n",
        "b = g['kelas']\n",
        "print(\"Nilai korelasi antara sumbu kecil dan kelas: \" + str (a.corr(b)))"
      ],
      "execution_count": 615,
      "outputs": [
        {
          "output_type": "stream",
          "text": [
            "Nilai korelasi antara sumbu kecil dan kelas: -0.1529751733553502\n"
          ],
          "name": "stdout"
        },
        {
          "output_type": "display_data",
          "data": {
            "image/png": "[encoded data removed]",
            "text/plain": [
              "<Figure size 432x288 with 1 Axes>"
            ]
          },
          "metadata": {
            "tags": [],
            "needs_background": "light"
          }
        }
      ]
    },
    {
      "cell_type": "markdown",
      "metadata": {
        "id": "lMRg7l1BWrAf"
      },
      "source": [
        "### Kesimpulan :\n",
        "Sumbu kecil dan kelas memiliki korelasi yang buruk dengan nilai -0.1529751."
      ]
    },
    {
      "cell_type": "markdown",
      "metadata": {
        "id": "FE_y6HoYUk0w"
      },
      "source": [
        "Keunikan dengan Kelas\n",
        "---"
      ]
    },
    {
      "cell_type": "code",
      "metadata": {
        "colab": {
          "base_uri": "https://localhost:8080/",
          "height": 296
        },
        "id": "n3JWJxZwUqbh",
        "outputId": "f91e8578-ac20-4303-dec6-da2fbb9cc83d"
      },
      "source": [
        "g.plot(kind='scatter', x='keunikan', y='kelas')\n",
        "a = g['keunikan']\n",
        "b = g['kelas']\n",
        "print(\"Nilai korelasi antara keunikan dan kelas: \" + str (a.corr(b)))"
      ],
      "execution_count": 616,
      "outputs": [
        {
          "output_type": "stream",
          "text": [
            "Nilai korelasi antara keunikan dan kelas: -0.7304563686511923\n"
          ],
          "name": "stdout"
        },
        {
          "output_type": "display_data",
          "data": {
            "image/png": "[encoded data removed]",
            "text/plain": [
              "<Figure size 432x288 with 1 Axes>"
            ]
          },
          "metadata": {
            "tags": [],
            "needs_background": "light"
          }
        }
      ]
    },
    {
      "cell_type": "markdown",
      "metadata": {
        "id": "9Oj3MTQrXZUO"
      },
      "source": [
        "### Kesimpulan :\n",
        "Keunikan dan kelas memiliki korelasi yang cukup baik dengan nilai -0.730456. Karena nilai korelasi negatif maka kedua kolom cenderung berbanding terbalik."
      ]
    },
    {
      "cell_type": "markdown",
      "metadata": {
        "id": "blvQOa6dUxO4"
      },
      "source": [
        "Area Bulatan dengan Kelas\n",
        "---"
      ]
    },
    {
      "cell_type": "code",
      "metadata": {
        "colab": {
          "base_uri": "https://localhost:8080/",
          "height": 296
        },
        "id": "Bji3USCoUvl6",
        "outputId": "5fe83310-e735-49d7-bbad-c0c106222e24"
      },
      "source": [
        "g.plot(kind='scatter', x='area bulatan', y='kelas')\n",
        "a = g['area bulatan']\n",
        "b = g['kelas']\n",
        "print(\"Nilai korelasi antara area bulatan dan kelas: \" + str (a.corr(b)))"
      ],
      "execution_count": 617,
      "outputs": [
        {
          "output_type": "stream",
          "text": [
            "Nilai korelasi antara area bulatan dan kelas: -0.6073125434153749\n"
          ],
          "name": "stdout"
        },
        {
          "output_type": "display_data",
          "data": {
            "image/png": "[encoded data removed]",
            "text/plain": [
              "<Figure size 432x288 with 1 Axes>"
            ]
          },
          "metadata": {
            "tags": [],
            "needs_background": "light"
          }
        }
      ]
    },
    {
      "cell_type": "markdown",
      "metadata": {
        "id": "wAqddq01Xbh1"
      },
      "source": [
        "### Kesimpulan :\n",
        "Area bulatan dan kelas memiliki korelasi yang cukup baik dengan nilai -0.607312. Karena nilai korelasi negatif maka kedua kolom cenderung berbanding terbalik."
      ]
    },
    {
      "cell_type": "markdown",
      "metadata": {
        "id": "-8ZIyyT1U39N"
      },
      "source": [
        "Diameter dengan Kelas\n",
        "---"
      ]
    },
    {
      "cell_type": "code",
      "metadata": {
        "colab": {
          "base_uri": "https://localhost:8080/",
          "height": 296
        },
        "id": "8tQTwhXFU8O6",
        "outputId": "65708565-1fce-4f3b-eb03-2f13cc5eff5a"
      },
      "source": [
        "g.plot(kind='scatter', x='diameter', y='kelas')\n",
        "a = g['diameter']\n",
        "b = g['kelas']\n",
        "print(\"Nilai korelasi antara diameter dan kelas: \" + str (a.corr(b)))"
      ],
      "execution_count": 618,
      "outputs": [
        {
          "output_type": "stream",
          "text": [
            "Nilai korelasi antara diameter dan kelas: -0.6025356896618809\n"
          ],
          "name": "stdout"
        },
        {
          "output_type": "display_data",
          "data": {
            "image/png": "[encoded data removed]",
            "text/plain": [
              "<Figure size 432x288 with 1 Axes>"
            ]
          },
          "metadata": {
            "tags": [],
            "needs_background": "light"
          }
        }
      ]
    },
    {
      "cell_type": "markdown",
      "metadata": {
        "id": "DN106u_9Xc1c"
      },
      "source": [
        "### Kesimpulan :\n",
        "Diameter dan kelas memiliki korelasi yang cukup baik dengan nilai -0.6025356. Karena nilai korelasi negatif maka kedua kolom cenderung berbanding terbalik.\n"
      ]
    },
    {
      "cell_type": "markdown",
      "metadata": {
        "id": "IcyCr0zhVGdY"
      },
      "source": [
        "Kadar Air dengan Kelas\n",
        "---"
      ]
    },
    {
      "cell_type": "code",
      "metadata": {
        "colab": {
          "base_uri": "https://localhost:8080/",
          "height": 296
        },
        "id": "AgkifgDUVLkj",
        "outputId": "6820dd1b-8446-4de6-e561-997d4ff5cd19"
      },
      "source": [
        "g.plot(kind='scatter', x='kadar air', y='kelas')\n",
        "a = g['kadar air']\n",
        "b = g['kelas']\n",
        "print(\"Nilai korelasi antara kadar air dan kelas: \" + str (a.corr(b)))"
      ],
      "execution_count": 619,
      "outputs": [
        {
          "output_type": "stream",
          "text": [
            "Nilai korelasi antara kadar air dan kelas: 0.13434422605727642\n"
          ],
          "name": "stdout"
        },
        {
          "output_type": "display_data",
          "data": {
            "image/png": "[encoded data removed]",
            "text/plain": [
              "<Figure size 432x288 with 1 Axes>"
            ]
          },
          "metadata": {
            "tags": [],
            "needs_background": "light"
          }
        }
      ]
    },
    {
      "cell_type": "markdown",
      "metadata": {
        "id": "kxu11tCMXeJ9"
      },
      "source": [
        "### Kesimpulan :\n",
        "Kadar air dan kelas memiliki korelasi yang buruk dengan nilai 0.134344."
      ]
    },
    {
      "cell_type": "markdown",
      "metadata": {
        "id": "WT3vcWH9VPZB"
      },
      "source": [
        "Bulatan dengan Kelas\n",
        "---"
      ]
    },
    {
      "cell_type": "code",
      "metadata": {
        "colab": {
          "base_uri": "https://localhost:8080/",
          "height": 296
        },
        "id": "Uk2e_YVyVTh2",
        "outputId": "3f4f095c-baa6-421a-bb12-912657d8f732"
      },
      "source": [
        "g.plot(kind='scatter', x='bulatan', y='kelas')\n",
        "a = g['bulatan']\n",
        "b = g['kelas']\n",
        "print(\"Nilai korelasi antara bulatan dan kelas: \" + str (a.corr(b)))"
      ],
      "execution_count": 620,
      "outputs": [
        {
          "output_type": "stream",
          "text": [
            "Nilai korelasi antara bulatan dan kelas: 0.5450045317240071\n"
          ],
          "name": "stdout"
        },
        {
          "output_type": "display_data",
          "data": {
            "image/png": "[encoded data removed]",
            "text/plain": [
              "<Figure size 432x288 with 1 Axes>"
            ]
          },
          "metadata": {
            "tags": [],
            "needs_background": "light"
          }
        }
      ]
    },
    {
      "cell_type": "markdown",
      "metadata": {
        "id": "WV3-hAFGXfFC"
      },
      "source": [
        "### Kesimpulan :\n",
        "Bulatan dan kelas memiliki korelasi yang cukup baik dengan nilai 0.545. Karena nilai korelasi positif maka kedua kolom cenderung berbanding lurus."
      ]
    },
    {
      "cell_type": "markdown",
      "metadata": {
        "id": "JE0Xtr--VX72"
      },
      "source": [
        "Ransum dengan Kelas\n",
        "---"
      ]
    },
    {
      "cell_type": "code",
      "metadata": {
        "colab": {
          "base_uri": "https://localhost:8080/",
          "height": 296
        },
        "id": "Y25MbzB3VcNl",
        "outputId": "bb552005-01ca-4eff-9b09-05615c768db5"
      },
      "source": [
        "g.plot(kind='scatter', x='ransum', y='kelas')\n",
        "a = g['ransum']\n",
        "b = g['kelas']\n",
        "print(\"Nilai korelasi antara ransum dan kelas: \" + str (a.corr(b)))"
      ],
      "execution_count": 621,
      "outputs": [
        {
          "output_type": "stream",
          "text": [
            "Nilai korelasi antara ransum dan kelas: -0.8399038681287484\n"
          ],
          "name": "stdout"
        },
        {
          "output_type": "display_data",
          "data": {
            "image/png": "[encoded data removed]",
            "text/plain": [
              "<Figure size 432x288 with 1 Axes>"
            ]
          },
          "metadata": {
            "tags": [],
            "needs_background": "light"
          }
        }
      ]
    },
    {
      "cell_type": "markdown",
      "metadata": {
        "id": "ZEELFPrZXgYp"
      },
      "source": [
        "### Kesimpulan :\n",
        "Ransum dan kelas memiliki korelasi yang baik dengan nilai -0.8399. Karena nilai korelasi negatif maka kedua kolom cenderung berbanding terbalik."
      ]
    }
  ]
}